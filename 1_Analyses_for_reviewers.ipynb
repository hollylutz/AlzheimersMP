{
 "cells": [
  {
   "cell_type": "code",
   "execution_count": 2,
   "metadata": {},
   "outputs": [],
   "source": [
    "library(phyloseq)\n",
    "library(ggplot2)\n",
    "library(vegan)\n",
    "library(readr)\n",
    "library(data.table)\n",
    "library(dplyr)\n",
    "library(stats)\n",
    "library(ggpubr)\n",
    "library(dunn.test)"
   ]
  },
  {
   "cell_type": "code",
   "execution_count": null,
   "metadata": {},
   "outputs": [],
   "source": [
    "#Comparison of Tg vs non-Tg mice to confirm lack of effect/difference at alpha and betadiversity levels\n",
    "\n",
    "#Group ONE: Male-Thy1-Vehicle (mice#41-50) vs Male-nonTg-vehicle (mice#21-30) at P22\n",
    "#Group TWO: Female-Thy1-Vehicle (mice#51-60) vs Female-nonTg-vehicle (mice#31-40) at P22\n",
    "#Group THREE: Male-Thy1-Vehicle (mice#101-110) vs Male-nonTg-vehicle (mice#81-90) at 7 weeks\n",
    "#Group FOUR: Female-Thy1-Vehicle (mice#111-120) vs Female-nonTg-vehicle(mice#91-100) at 7 weeks"
   ]
  },
  {
   "cell_type": "code",
   "execution_count": 3,
   "metadata": {},
   "outputs": [],
   "source": [
    "#Read in data from P22 mice (Tg vs Wildtype)\n",
    "alz_nt = readRDS(\"/home/holutz/projects/Alzheimers/ps_files/alz2_nt.rds\")\n",
    "alz_t = readRDS(\"/home/holutz/projects/Alzheimers/ps_files/alz2_t.rds\")"
   ]
  },
  {
   "cell_type": "code",
   "execution_count": 4,
   "metadata": {},
   "outputs": [
    {
     "name": "stderr",
     "output_type": "stream",
     "text": [
      "`stat_bin()` using `bins = 30`. Pick better value with `binwidth`.\n",
      "\n"
     ]
    },
    {
     "data": {
      "image/png": "[encoded data removed]",
      "text/plain": [
       "plot without title"
      ]
     },
     "metadata": {
      "image/png": {
       "height": 420,
       "width": 420
      },
      "text/plain": {
       "height": 420,
       "width": 420
      }
     },
     "output_type": "display_data"
    }
   ],
   "source": [
    "alz_sdt = data.table(as(sample_data(alz_nt), \"data.frame\"),\n",
    "                 TotalReads = sample_sums(alz_nt), keep.rownames = TRUE)\n",
    "setnames(alz_sdt, \"rn\", \"SampleName\")\n",
    "pSeqDepth = ggplot(alz_sdt, aes(TotalReads)) + geom_histogram() + ggtitle(\"Sequencing Depth\")\n",
    "pSeqDepth\n"
   ]
  },
  {
   "cell_type": "code",
   "execution_count": null,
   "metadata": {},
   "outputs": [],
   "source": [
    "##### TEMPORARY SUBSETTING FOR MMVEC FILES\n",
    "\n",
    "M_CTR = subset_samples(alz_nt, Treatment==\"vehicle\")\n",
    "M_ABX = subset_samples(alz_nt, Treatment==\"abx\")\n",
    "M_ABX_FMT = subset_samples(alz_nt, Treatment==\"abx + fmt\")"
   ]
  },
  {
   "cell_type": "code",
   "execution_count": null,
   "metadata": {},
   "outputs": [],
   "source": []
  },
  {
   "cell_type": "code",
   "execution_count": null,
   "metadata": {},
   "outputs": [],
   "source": []
  },
  {
   "cell_type": "code",
   "execution_count": null,
   "metadata": {},
   "outputs": [],
   "source": []
  },
  {
   "cell_type": "code",
   "execution_count": 5,
   "metadata": {},
   "outputs": [
    {
     "data": {
      "text/html": [
       "<style>\n",
       ".list-inline {list-style: none; margin:0; padding: 0}\n",
       ".list-inline>li {display: inline-block}\n",
       ".list-inline>li:not(:last-child)::after {content: \"\\00b7\"; padding: 0 .5ex}\n",
       "</style>\n",
       "<ol class=list-inline><li>vehicle</li><li>vehicle</li><li>abx</li><li>vehicle</li><li>vehicle</li><li>vehicle</li></ol>\n",
       "\n",
       "<details>\n",
       "\t<summary style=display:list-item;cursor:pointer>\n",
       "\t\t<strong>Levels</strong>:\n",
       "\t</summary>\n",
       "\t<style>\n",
       "\t.list-inline {list-style: none; margin:0; padding: 0}\n",
       "\t.list-inline>li {display: inline-block}\n",
       "\t.list-inline>li:not(:last-child)::after {content: \"\\00b7\"; padding: 0 .5ex}\n",
       "\t</style>\n",
       "\t<ol class=list-inline><li>'abx'</li><li>'vehicle'</li></ol>\n",
       "</details>"
      ],
      "text/latex": [
       "\\begin{enumerate*}\n",
       "\\item vehicle\n",
       "\\item vehicle\n",
       "\\item abx\n",
       "\\item vehicle\n",
       "\\item vehicle\n",
       "\\item vehicle\n",
       "\\end{enumerate*}\n",
       "\n",
       "\\emph{Levels}: \\begin{enumerate*}\n",
       "\\item 'abx'\n",
       "\\item 'vehicle'\n",
       "\\end{enumerate*}\n"
      ],
      "text/markdown": [
       "1. vehicle\n",
       "2. vehicle\n",
       "3. abx\n",
       "4. vehicle\n",
       "5. vehicle\n",
       "6. vehicle\n",
       "\n",
       "\n",
       "\n",
       "**Levels**: 1. 'abx'\n",
       "2. 'vehicle'\n",
       "\n",
       "\n"
      ],
      "text/plain": [
       "[1] vehicle vehicle abx     vehicle vehicle vehicle\n",
       "Levels: abx vehicle"
      ]
     },
     "metadata": {},
     "output_type": "display_data"
    }
   ],
   "source": [
    "sample_tab = data.frame(sample_data(alz_nt))\n",
    "colnames(sample_tab)[1] <- \"SampleID\"\n",
    "head(sample_tab$Treatment)"
   ]
  },
  {
   "cell_type": "code",
   "execution_count": 10,
   "metadata": {},
   "outputs": [],
   "source": [
    "alz_group_one = subset_samples(alz_nt, Comparison_number==\"One\")\n",
    "alz_group_two = subset_samples(alz_nt, Comparison_number==\"Two\")\n",
    "alz_group_three = subset_samples(alz_nt, Comparison_number==\"Three\")\n",
    "alz_group_four = subset_samples(alz_nt, Comparison_number==\"Four\")"
   ]
  },
  {
   "cell_type": "code",
   "execution_count": 26,
   "metadata": {},
   "outputs": [
    {
     "data": {
      "text/html": [
       "<table>\n",
       "<caption>A tibble: 2 × 5</caption>\n",
       "<thead>\n",
       "\t<tr><th scope=col>Transgenic</th><th scope=col>median</th><th scope=col>mean</th><th scope=col>sd</th><th scope=col>sem</th></tr>\n",
       "\t<tr><th scope=col>&lt;fct&gt;</th><th scope=col>&lt;dbl&gt;</th><th scope=col>&lt;dbl&gt;</th><th scope=col>&lt;dbl&gt;</th><th scope=col>&lt;dbl&gt;</th></tr>\n",
       "</thead>\n",
       "<tbody>\n",
       "\t<tr><td>no </td><td>156</td><td>155.2</td><td>35.54278</td><td>11.239612</td></tr>\n",
       "\t<tr><td>yes</td><td>172</td><td>172.0</td><td>13.56466</td><td> 4.289522</td></tr>\n",
       "</tbody>\n",
       "</table>\n"
      ],
      "text/latex": [
       "A tibble: 2 × 5\n",
       "\\begin{tabular}{lllll}\n",
       " Transgenic & median & mean & sd & sem\\\\\n",
       " <fct> & <dbl> & <dbl> & <dbl> & <dbl>\\\\\n",
       "\\hline\n",
       "\t no  & 156 & 155.2 & 35.54278 & 11.239612\\\\\n",
       "\t yes & 172 & 172.0 & 13.56466 &  4.289522\\\\\n",
       "\\end{tabular}\n"
      ],
      "text/markdown": [
       "\n",
       "A tibble: 2 × 5\n",
       "\n",
       "| Transgenic &lt;fct&gt; | median &lt;dbl&gt; | mean &lt;dbl&gt; | sd &lt;dbl&gt; | sem &lt;dbl&gt; |\n",
       "|---|---|---|---|---|\n",
       "| no  | 156 | 155.2 | 35.54278 | 11.239612 |\n",
       "| yes | 172 | 172.0 | 13.56466 |  4.289522 |\n",
       "\n"
      ],
      "text/plain": [
       "  Transgenic median mean  sd       sem      \n",
       "1 no         156    155.2 35.54278 11.239612\n",
       "2 yes        172    172.0 13.56466  4.289522"
      ]
     },
     "metadata": {},
     "output_type": "display_data"
    },
    {
     "data": {
      "text/plain": [
       "\n",
       "\tKruskal-Wallis rank sum test\n",
       "\n",
       "data:  Observed by Transgenic\n",
       "Kruskal-Wallis chi-squared = 0.63095, df = 1, p-value = 0.427\n"
      ]
     },
     "metadata": {},
     "output_type": "display_data"
    }
   ],
   "source": [
    "#Observed richness by Tg vs wild type (group one)\n",
    "\n",
    "obs = estimate_richness(na.omit(alz_group_one), split = TRUE, measures = \"Observed\")\n",
    "obs$SampleID = rownames(obs)\n",
    "\n",
    "dfobs = merge(obs, sample_tab, on=\"SampleID\")\n",
    "\n",
    "ordobs = obs %>% group_by(\"Transgenic\") %>%\n",
    "    summarize(med.obs = median(Observed)) %>%\n",
    "    arrange(desc(med.obs)) %>%\n",
    "    magrittr::extract2(\"Transgenic\")\n",
    "\n",
    "stats.obs = dfobs %>%\n",
    "    group_by(Transgenic) %>%\n",
    "    summarize(median = median(Observed), \n",
    "              mean = mean(Observed),\n",
    "              sd = sd(Observed),\n",
    "              sem = sd(Observed/sqrt(length(Observed))))\n",
    "stats.obs\n",
    "\n",
    "#CHECK FOR SIGNIFICANCE\n",
    "stats.krusk = kruskal.test(Observed~Transgenic, data=dfobs)\n",
    "stats.krusk"
   ]
  },
  {
   "cell_type": "code",
   "execution_count": 27,
   "metadata": {},
   "outputs": [
    {
     "data": {
      "text/html": [
       "<table>\n",
       "<caption>A tibble: 2 × 5</caption>\n",
       "<thead>\n",
       "\t<tr><th scope=col>Transgenic</th><th scope=col>median</th><th scope=col>mean</th><th scope=col>sd</th><th scope=col>sem</th></tr>\n",
       "\t<tr><th scope=col>&lt;fct&gt;</th><th scope=col>&lt;dbl&gt;</th><th scope=col>&lt;dbl&gt;</th><th scope=col>&lt;dbl&gt;</th><th scope=col>&lt;dbl&gt;</th></tr>\n",
       "</thead>\n",
       "<tbody>\n",
       "\t<tr><td>no </td><td>205</td><td>189.3</td><td>37.15448</td><td>11.74928</td></tr>\n",
       "\t<tr><td>yes</td><td>148</td><td>161.0</td><td>37.58250</td><td>11.88463</td></tr>\n",
       "</tbody>\n",
       "</table>\n"
      ],
      "text/latex": [
       "A tibble: 2 × 5\n",
       "\\begin{tabular}{lllll}\n",
       " Transgenic & median & mean & sd & sem\\\\\n",
       " <fct> & <dbl> & <dbl> & <dbl> & <dbl>\\\\\n",
       "\\hline\n",
       "\t no  & 205 & 189.3 & 37.15448 & 11.74928\\\\\n",
       "\t yes & 148 & 161.0 & 37.58250 & 11.88463\\\\\n",
       "\\end{tabular}\n"
      ],
      "text/markdown": [
       "\n",
       "A tibble: 2 × 5\n",
       "\n",
       "| Transgenic &lt;fct&gt; | median &lt;dbl&gt; | mean &lt;dbl&gt; | sd &lt;dbl&gt; | sem &lt;dbl&gt; |\n",
       "|---|---|---|---|---|\n",
       "| no  | 205 | 189.3 | 37.15448 | 11.74928 |\n",
       "| yes | 148 | 161.0 | 37.58250 | 11.88463 |\n",
       "\n"
      ],
      "text/plain": [
       "  Transgenic median mean  sd       sem     \n",
       "1 no         205    189.3 37.15448 11.74928\n",
       "2 yes        148    161.0 37.58250 11.88463"
      ]
     },
     "metadata": {},
     "output_type": "display_data"
    },
    {
     "data": {
      "text/plain": [
       "\n",
       "\tKruskal-Wallis rank sum test\n",
       "\n",
       "data:  Observed by Transgenic\n",
       "Kruskal-Wallis chi-squared = 3.0251, df = 1, p-value = 0.08198\n"
      ]
     },
     "metadata": {},
     "output_type": "display_data"
    }
   ],
   "source": [
    "#Observed richness by Tg vs wild type (group two)\n",
    "\n",
    "obs = estimate_richness(alz_group_two, split = TRUE, measures = \"Observed\")\n",
    "obs$SampleID = rownames(obs)\n",
    "\n",
    "dfobs = merge(obs, sample_tab, on=\"SampleID\")\n",
    "\n",
    "ordobs = obs %>% group_by(\"Transgenic\") %>%\n",
    "    summarize(med.obs = median(Observed)) %>%\n",
    "    arrange(desc(med.obs)) %>%\n",
    "    magrittr::extract2(\"Transgenic\")\n",
    "\n",
    "stats.obs = dfobs %>%\n",
    "    group_by(Transgenic) %>%\n",
    "    summarize(median = median(Observed), \n",
    "              mean = mean(Observed),\n",
    "              sd = sd(Observed),\n",
    "              sem = sd(Observed/sqrt(length(Observed))))\n",
    "stats.obs\n",
    "\n",
    "#CHECK FOR SIGNIFICANCE\n",
    "stats.krusk = kruskal.test(Observed~Transgenic, data=dfobs)\n",
    "stats.krusk"
   ]
  },
  {
   "cell_type": "code",
   "execution_count": 28,
   "metadata": {},
   "outputs": [
    {
     "data": {
      "text/html": [
       "<table>\n",
       "<caption>A tibble: 2 × 5</caption>\n",
       "<thead>\n",
       "\t<tr><th scope=col>Transgenic</th><th scope=col>median</th><th scope=col>mean</th><th scope=col>sd</th><th scope=col>sem</th></tr>\n",
       "\t<tr><th scope=col>&lt;fct&gt;</th><th scope=col>&lt;dbl&gt;</th><th scope=col>&lt;dbl&gt;</th><th scope=col>&lt;dbl&gt;</th><th scope=col>&lt;dbl&gt;</th></tr>\n",
       "</thead>\n",
       "<tbody>\n",
       "\t<tr><td>no </td><td>223</td><td>222.5</td><td>33.16709</td><td>10.48835</td></tr>\n",
       "\t<tr><td>yes</td><td>258</td><td>252.5</td><td>33.73508</td><td>10.66797</td></tr>\n",
       "</tbody>\n",
       "</table>\n"
      ],
      "text/latex": [
       "A tibble: 2 × 5\n",
       "\\begin{tabular}{lllll}\n",
       " Transgenic & median & mean & sd & sem\\\\\n",
       " <fct> & <dbl> & <dbl> & <dbl> & <dbl>\\\\\n",
       "\\hline\n",
       "\t no  & 223 & 222.5 & 33.16709 & 10.48835\\\\\n",
       "\t yes & 258 & 252.5 & 33.73508 & 10.66797\\\\\n",
       "\\end{tabular}\n"
      ],
      "text/markdown": [
       "\n",
       "A tibble: 2 × 5\n",
       "\n",
       "| Transgenic &lt;fct&gt; | median &lt;dbl&gt; | mean &lt;dbl&gt; | sd &lt;dbl&gt; | sem &lt;dbl&gt; |\n",
       "|---|---|---|---|---|\n",
       "| no  | 223 | 222.5 | 33.16709 | 10.48835 |\n",
       "| yes | 258 | 252.5 | 33.73508 | 10.66797 |\n",
       "\n"
      ],
      "text/plain": [
       "  Transgenic median mean  sd       sem     \n",
       "1 no         223    222.5 33.16709 10.48835\n",
       "2 yes        258    252.5 33.73508 10.66797"
      ]
     },
     "metadata": {},
     "output_type": "display_data"
    },
    {
     "data": {
      "text/plain": [
       "\n",
       "\tKruskal-Wallis rank sum test\n",
       "\n",
       "data:  Observed by Transgenic\n",
       "Kruskal-Wallis chi-squared = 4.6519, df = 1, p-value = 0.03102\n"
      ]
     },
     "metadata": {},
     "output_type": "display_data"
    }
   ],
   "source": [
    "#Observed richness by Tg vs wild type (group three)\n",
    "\n",
    "obs = estimate_richness(alz_group_three, split = TRUE, measures = \"Observed\")\n",
    "obs$SampleID = rownames(obs)\n",
    "\n",
    "dfobs = merge(obs, sample_tab, on=\"SampleID\")\n",
    "\n",
    "ordobs = obs %>% group_by(\"Transgenic\") %>%\n",
    "    summarize(med.obs = median(Observed)) %>%\n",
    "    arrange(desc(med.obs)) %>%\n",
    "    magrittr::extract2(\"Transgenic\")\n",
    "\n",
    "stats.obs = dfobs %>%\n",
    "    group_by(Transgenic) %>%\n",
    "    summarize(median = median(Observed), \n",
    "              mean = mean(Observed),\n",
    "              sd = sd(Observed),\n",
    "              sem = sd(Observed/sqrt(length(Observed))))\n",
    "stats.obs\n",
    "\n",
    "#CHECK FOR SIGNIFICANCE\n",
    "stats.krusk = kruskal.test(Observed~Transgenic, data=dfobs)\n",
    "stats.krusk"
   ]
  },
  {
   "cell_type": "code",
   "execution_count": 29,
   "metadata": {},
   "outputs": [
    {
     "data": {
      "text/html": [
       "<table>\n",
       "<caption>A tibble: 2 × 5</caption>\n",
       "<thead>\n",
       "\t<tr><th scope=col>Transgenic</th><th scope=col>median</th><th scope=col>mean</th><th scope=col>sd</th><th scope=col>sem</th></tr>\n",
       "\t<tr><th scope=col>&lt;fct&gt;</th><th scope=col>&lt;dbl&gt;</th><th scope=col>&lt;dbl&gt;</th><th scope=col>&lt;dbl&gt;</th><th scope=col>&lt;dbl&gt;</th></tr>\n",
       "</thead>\n",
       "<tbody>\n",
       "\t<tr><td>no </td><td>251.5</td><td>245.3</td><td>48.24947</td><td>15.25782</td></tr>\n",
       "\t<tr><td>yes</td><td>221.0</td><td>226.1</td><td>48.49158</td><td>15.33438</td></tr>\n",
       "</tbody>\n",
       "</table>\n"
      ],
      "text/latex": [
       "A tibble: 2 × 5\n",
       "\\begin{tabular}{lllll}\n",
       " Transgenic & median & mean & sd & sem\\\\\n",
       " <fct> & <dbl> & <dbl> & <dbl> & <dbl>\\\\\n",
       "\\hline\n",
       "\t no  & 251.5 & 245.3 & 48.24947 & 15.25782\\\\\n",
       "\t yes & 221.0 & 226.1 & 48.49158 & 15.33438\\\\\n",
       "\\end{tabular}\n"
      ],
      "text/markdown": [
       "\n",
       "A tibble: 2 × 5\n",
       "\n",
       "| Transgenic &lt;fct&gt; | median &lt;dbl&gt; | mean &lt;dbl&gt; | sd &lt;dbl&gt; | sem &lt;dbl&gt; |\n",
       "|---|---|---|---|---|\n",
       "| no  | 251.5 | 245.3 | 48.24947 | 15.25782 |\n",
       "| yes | 221.0 | 226.1 | 48.49158 | 15.33438 |\n",
       "\n"
      ],
      "text/plain": [
       "  Transgenic median mean  sd       sem     \n",
       "1 no         251.5  245.3 48.24947 15.25782\n",
       "2 yes        221.0  226.1 48.49158 15.33438"
      ]
     },
     "metadata": {},
     "output_type": "display_data"
    },
    {
     "data": {
      "text/plain": [
       "\n",
       "\tKruskal-Wallis rank sum test\n",
       "\n",
       "data:  Observed by Transgenic\n",
       "Kruskal-Wallis chi-squared = 0.69143, df = 1, p-value = 0.4057\n"
      ]
     },
     "metadata": {},
     "output_type": "display_data"
    }
   ],
   "source": [
    "#Observed richness by Tg vs wild type (group four)\n",
    "\n",
    "obs = estimate_richness(alz_group_four, split = TRUE, measures = \"Observed\")\n",
    "obs$SampleID = rownames(obs)\n",
    "\n",
    "dfobs = merge(obs, sample_tab, on=\"SampleID\")\n",
    "\n",
    "ordobs = obs %>% group_by(\"Transgenic\") %>%\n",
    "    summarize(med.obs = median(Observed)) %>%\n",
    "    arrange(desc(med.obs)) %>%\n",
    "    magrittr::extract2(\"Transgenic\")\n",
    "\n",
    "stats.obs = dfobs %>%\n",
    "    group_by(Transgenic) %>%\n",
    "    summarize(median = median(Observed), \n",
    "              mean = mean(Observed),\n",
    "              sd = sd(Observed),\n",
    "              sem = sd(Observed/sqrt(length(Observed))))\n",
    "stats.obs\n",
    "\n",
    "#CHECK FOR SIGNIFICANCE\n",
    "stats.krusk = kruskal.test(Observed~Transgenic, data=dfobs)\n",
    "stats.krusk"
   ]
  },
  {
   "cell_type": "code",
   "execution_count": 73,
   "metadata": {},
   "outputs": [
    {
     "data": {
      "text/html": [
       "<style>\n",
       ".list-inline {list-style: none; margin:0; padding: 0}\n",
       ".list-inline>li {display: inline-block}\n",
       ".list-inline>li:not(:last-child)::after {content: \"\\00b7\"; padding: 0 .5ex}\n",
       "</style>\n",
       "<ol class=list-inline><li>0.427</li><li>0.164</li><li>0.124</li><li>0.427</li></ol>\n"
      ],
      "text/latex": [
       "\\begin{enumerate*}\n",
       "\\item 0.427\n",
       "\\item 0.164\n",
       "\\item 0.124\n",
       "\\item 0.427\n",
       "\\end{enumerate*}\n"
      ],
      "text/markdown": [
       "1. 0.427\n",
       "2. 0.164\n",
       "3. 0.124\n",
       "4. 0.427\n",
       "\n",
       "\n"
      ],
      "text/plain": [
       "[1] 0.427 0.164 0.124 0.427"
      ]
     },
     "metadata": {},
     "output_type": "display_data"
    }
   ],
   "source": [
    "#FDR p-value correction\n",
    "p = c(\"0.427\",\"0.082\",\"0.031\",\"0.406\")\n",
    "p.adjust(p, method = \"fdr\", n = length(p))"
   ]
  },
  {
   "cell_type": "markdown",
   "metadata": {},
   "source": [
    "### UNWEIGHTED UNIFRAC"
   ]
  },
  {
   "cell_type": "code",
   "execution_count": 30,
   "metadata": {},
   "outputs": [],
   "source": [
    "alz_group_one = subset_samples(alz_t, Comparison_number==\"One\")\n",
    "alz_group_two = subset_samples(alz_t, Comparison_number==\"Two\")\n",
    "alz_group_three = subset_samples(alz_t, Comparison_number==\"Three\")\n",
    "alz_group_four = subset_samples(alz_t, Comparison_number==\"Four\")"
   ]
  },
  {
   "cell_type": "code",
   "execution_count": 31,
   "metadata": {},
   "outputs": [],
   "source": [
    "alz_group_one.df = data.frame(sample_data(alz_group_one))\n",
    "alz_group_two.df = data.frame(sample_data(alz_group_two))\n",
    "alz_group_three.df = data.frame(sample_data(alz_group_three))\n",
    "alz_group_four.df = data.frame(sample_data(alz_group_four))"
   ]
  },
  {
   "cell_type": "code",
   "execution_count": 33,
   "metadata": {},
   "outputs": [
    {
     "name": "stderr",
     "output_type": "stream",
     "text": [
      "Warning message in UniFrac(physeq, ...):\n",
      "“Randomly assigning root as -- GACGGGGGGGGCAAGTGTTCTTCGGAATGACTGGGCGTAAAGGGCACGTAGGCGGTGAATCGGGTTGAAAGTGAAAGTCGCCAAAAAGTGGCGGAATGCTCTCGAAACCAATTCACTTGAGTGAGACAGAGGAGAGTGGAATTTCGTGTG -- in the phylogenetic tree in the data you provided.”\n"
     ]
    },
    {
     "data": {
      "text/html": [
       "<table>\n",
       "<caption>A anova.cca: 3 × 5</caption>\n",
       "<thead>\n",
       "\t<tr><th></th><th scope=col>Df</th><th scope=col>SumOfSqs</th><th scope=col>R2</th><th scope=col>F</th><th scope=col>Pr(&gt;F)</th></tr>\n",
       "\t<tr><th></th><th scope=col>&lt;dbl&gt;</th><th scope=col>&lt;dbl&gt;</th><th scope=col>&lt;dbl&gt;</th><th scope=col>&lt;dbl&gt;</th><th scope=col>&lt;dbl&gt;</th></tr>\n",
       "</thead>\n",
       "<tbody>\n",
       "\t<tr><th scope=row>Transgenic</th><td> 1</td><td>0.1500127</td><td>0.09670441</td><td>1.927032</td><td>0.004</td></tr>\n",
       "\t<tr><th scope=row>Residual</th><td>18</td><td>1.4012369</td><td>0.90329559</td><td>      NA</td><td>   NA</td></tr>\n",
       "\t<tr><th scope=row>Total</th><td>19</td><td>1.5512496</td><td>1.00000000</td><td>      NA</td><td>   NA</td></tr>\n",
       "</tbody>\n",
       "</table>\n"
      ],
      "text/latex": [
       "A anova.cca: 3 × 5\n",
       "\\begin{tabular}{r|lllll}\n",
       "  & Df & SumOfSqs & R2 & F & Pr(>F)\\\\\n",
       "  & <dbl> & <dbl> & <dbl> & <dbl> & <dbl>\\\\\n",
       "\\hline\n",
       "\tTransgenic &  1 & 0.1500127 & 0.09670441 & 1.927032 & 0.004\\\\\n",
       "\tResidual & 18 & 1.4012369 & 0.90329559 &       NA &    NA\\\\\n",
       "\tTotal & 19 & 1.5512496 & 1.00000000 &       NA &    NA\\\\\n",
       "\\end{tabular}\n"
      ],
      "text/markdown": [
       "\n",
       "A anova.cca: 3 × 5\n",
       "\n",
       "| <!--/--> | Df &lt;dbl&gt; | SumOfSqs &lt;dbl&gt; | R2 &lt;dbl&gt; | F &lt;dbl&gt; | Pr(&gt;F) &lt;dbl&gt; |\n",
       "|---|---|---|---|---|---|\n",
       "| Transgenic |  1 | 0.1500127 | 0.09670441 | 1.927032 | 0.004 |\n",
       "| Residual | 18 | 1.4012369 | 0.90329559 |       NA |    NA |\n",
       "| Total | 19 | 1.5512496 | 1.00000000 |       NA |    NA |\n",
       "\n"
      ],
      "text/plain": [
       "           Df SumOfSqs  R2         F        Pr(>F)\n",
       "Transgenic  1 0.1500127 0.09670441 1.927032 0.004 \n",
       "Residual   18 1.4012369 0.90329559       NA    NA \n",
       "Total      19 1.5512496 1.00000000       NA    NA "
      ]
     },
     "metadata": {},
     "output_type": "display_data"
    },
    {
     "name": "stderr",
     "output_type": "stream",
     "text": [
      "Warning message in UniFrac(physeq, ...):\n",
      "“Randomly assigning root as -- TACGTAGGAGGCAAGCGTTATCCGGAATGACTGGGCGTAAAGGGTGCGTAGGTGGTTCAGCAAGTTAGTAGCGTAACTCCGGGGCTCAACCTCGGCACTACTACTAAAACTGTTGGACTTGAGTGCAGGAGGGGCAACTGGAATTCCTAG -- in the phylogenetic tree in the data you provided.”\n"
     ]
    },
    {
     "data": {
      "text/html": [
       "<table>\n",
       "<caption>A anova.cca: 3 × 5</caption>\n",
       "<thead>\n",
       "\t<tr><th></th><th scope=col>Df</th><th scope=col>SumOfSqs</th><th scope=col>R2</th><th scope=col>F</th><th scope=col>Pr(&gt;F)</th></tr>\n",
       "\t<tr><th></th><th scope=col>&lt;dbl&gt;</th><th scope=col>&lt;dbl&gt;</th><th scope=col>&lt;dbl&gt;</th><th scope=col>&lt;dbl&gt;</th><th scope=col>&lt;dbl&gt;</th></tr>\n",
       "</thead>\n",
       "<tbody>\n",
       "\t<tr><th scope=row>Transgenic</th><td> 1</td><td>0.09447389</td><td>0.05195082</td><td>0.9863567</td><td>0.438</td></tr>\n",
       "\t<tr><th scope=row>Residual</th><td>18</td><td>1.72405179</td><td>0.94804918</td><td>       NA</td><td>   NA</td></tr>\n",
       "\t<tr><th scope=row>Total</th><td>19</td><td>1.81852569</td><td>1.00000000</td><td>       NA</td><td>   NA</td></tr>\n",
       "</tbody>\n",
       "</table>\n"
      ],
      "text/latex": [
       "A anova.cca: 3 × 5\n",
       "\\begin{tabular}{r|lllll}\n",
       "  & Df & SumOfSqs & R2 & F & Pr(>F)\\\\\n",
       "  & <dbl> & <dbl> & <dbl> & <dbl> & <dbl>\\\\\n",
       "\\hline\n",
       "\tTransgenic &  1 & 0.09447389 & 0.05195082 & 0.9863567 & 0.438\\\\\n",
       "\tResidual & 18 & 1.72405179 & 0.94804918 &        NA &    NA\\\\\n",
       "\tTotal & 19 & 1.81852569 & 1.00000000 &        NA &    NA\\\\\n",
       "\\end{tabular}\n"
      ],
      "text/markdown": [
       "\n",
       "A anova.cca: 3 × 5\n",
       "\n",
       "| <!--/--> | Df &lt;dbl&gt; | SumOfSqs &lt;dbl&gt; | R2 &lt;dbl&gt; | F &lt;dbl&gt; | Pr(&gt;F) &lt;dbl&gt; |\n",
       "|---|---|---|---|---|---|\n",
       "| Transgenic |  1 | 0.09447389 | 0.05195082 | 0.9863567 | 0.438 |\n",
       "| Residual | 18 | 1.72405179 | 0.94804918 |        NA |    NA |\n",
       "| Total | 19 | 1.81852569 | 1.00000000 |        NA |    NA |\n",
       "\n"
      ],
      "text/plain": [
       "           Df SumOfSqs   R2         F         Pr(>F)\n",
       "Transgenic  1 0.09447389 0.05195082 0.9863567 0.438 \n",
       "Residual   18 1.72405179 0.94804918        NA    NA \n",
       "Total      19 1.81852569 1.00000000        NA    NA "
      ]
     },
     "metadata": {},
     "output_type": "display_data"
    },
    {
     "name": "stderr",
     "output_type": "stream",
     "text": [
      "Warning message in UniFrac(physeq, ...):\n",
      "“Randomly assigning root as -- TACGGAGGATGCGAGCGTTATCCGGATTTATTGGGTTTAAAGGGTGCGTAGGCGGTATTTTAAGTTAGTGGTAAAACGTCGGGGCTTCACCTTGATTGGCCATTAAAACTGGAGTACTAGAGTACAGACGAGGTAGGCGGAATAAGTTAA -- in the phylogenetic tree in the data you provided.”\n"
     ]
    },
    {
     "data": {
      "text/html": [
       "<table>\n",
       "<caption>A anova.cca: 3 × 5</caption>\n",
       "<thead>\n",
       "\t<tr><th></th><th scope=col>Df</th><th scope=col>SumOfSqs</th><th scope=col>R2</th><th scope=col>F</th><th scope=col>Pr(&gt;F)</th></tr>\n",
       "\t<tr><th></th><th scope=col>&lt;dbl&gt;</th><th scope=col>&lt;dbl&gt;</th><th scope=col>&lt;dbl&gt;</th><th scope=col>&lt;dbl&gt;</th><th scope=col>&lt;dbl&gt;</th></tr>\n",
       "</thead>\n",
       "<tbody>\n",
       "\t<tr><th scope=row>Transgenic</th><td> 1</td><td>0.06270256</td><td>0.03668096</td><td>0.6853983</td><td>0.899</td></tr>\n",
       "\t<tr><th scope=row>Residual</th><td>18</td><td>1.64670100</td><td>0.96331904</td><td>       NA</td><td>   NA</td></tr>\n",
       "\t<tr><th scope=row>Total</th><td>19</td><td>1.70940356</td><td>1.00000000</td><td>       NA</td><td>   NA</td></tr>\n",
       "</tbody>\n",
       "</table>\n"
      ],
      "text/latex": [
       "A anova.cca: 3 × 5\n",
       "\\begin{tabular}{r|lllll}\n",
       "  & Df & SumOfSqs & R2 & F & Pr(>F)\\\\\n",
       "  & <dbl> & <dbl> & <dbl> & <dbl> & <dbl>\\\\\n",
       "\\hline\n",
       "\tTransgenic &  1 & 0.06270256 & 0.03668096 & 0.6853983 & 0.899\\\\\n",
       "\tResidual & 18 & 1.64670100 & 0.96331904 &        NA &    NA\\\\\n",
       "\tTotal & 19 & 1.70940356 & 1.00000000 &        NA &    NA\\\\\n",
       "\\end{tabular}\n"
      ],
      "text/markdown": [
       "\n",
       "A anova.cca: 3 × 5\n",
       "\n",
       "| <!--/--> | Df &lt;dbl&gt; | SumOfSqs &lt;dbl&gt; | R2 &lt;dbl&gt; | F &lt;dbl&gt; | Pr(&gt;F) &lt;dbl&gt; |\n",
       "|---|---|---|---|---|---|\n",
       "| Transgenic |  1 | 0.06270256 | 0.03668096 | 0.6853983 | 0.899 |\n",
       "| Residual | 18 | 1.64670100 | 0.96331904 |        NA |    NA |\n",
       "| Total | 19 | 1.70940356 | 1.00000000 |        NA |    NA |\n",
       "\n"
      ],
      "text/plain": [
       "           Df SumOfSqs   R2         F         Pr(>F)\n",
       "Transgenic  1 0.06270256 0.03668096 0.6853983 0.899 \n",
       "Residual   18 1.64670100 0.96331904        NA    NA \n",
       "Total      19 1.70940356 1.00000000        NA    NA "
      ]
     },
     "metadata": {},
     "output_type": "display_data"
    },
    {
     "name": "stderr",
     "output_type": "stream",
     "text": [
      "Warning message in UniFrac(physeq, ...):\n",
      "“Randomly assigning root as -- TACGTAGGGGGCAAGCGTTATCCGGATTTACTGGGTGTAAAGGGAGCGTAGACGGCGGGGCAAGTCTGGAGTGAAAGGCCGGGGCCCAACCCCGGGACCGCTCTGGAAACTGCCCGGCTGGAGTGCGGGAGAGGTAAGCGGAATTCCTAG -- in the phylogenetic tree in the data you provided.”\n"
     ]
    },
    {
     "data": {
      "text/html": [
       "<table>\n",
       "<caption>A anova.cca: 3 × 5</caption>\n",
       "<thead>\n",
       "\t<tr><th></th><th scope=col>Df</th><th scope=col>SumOfSqs</th><th scope=col>R2</th><th scope=col>F</th><th scope=col>Pr(&gt;F)</th></tr>\n",
       "\t<tr><th></th><th scope=col>&lt;dbl&gt;</th><th scope=col>&lt;dbl&gt;</th><th scope=col>&lt;dbl&gt;</th><th scope=col>&lt;dbl&gt;</th><th scope=col>&lt;dbl&gt;</th></tr>\n",
       "</thead>\n",
       "<tbody>\n",
       "\t<tr><th scope=row>Transgenic</th><td> 1</td><td>0.08475462</td><td>0.04977413</td><td>0.9428647</td><td>0.546</td></tr>\n",
       "\t<tr><th scope=row>Residual</th><td>18</td><td>1.61802973</td><td>0.95022587</td><td>       NA</td><td>   NA</td></tr>\n",
       "\t<tr><th scope=row>Total</th><td>19</td><td>1.70278435</td><td>1.00000000</td><td>       NA</td><td>   NA</td></tr>\n",
       "</tbody>\n",
       "</table>\n"
      ],
      "text/latex": [
       "A anova.cca: 3 × 5\n",
       "\\begin{tabular}{r|lllll}\n",
       "  & Df & SumOfSqs & R2 & F & Pr(>F)\\\\\n",
       "  & <dbl> & <dbl> & <dbl> & <dbl> & <dbl>\\\\\n",
       "\\hline\n",
       "\tTransgenic &  1 & 0.08475462 & 0.04977413 & 0.9428647 & 0.546\\\\\n",
       "\tResidual & 18 & 1.61802973 & 0.95022587 &        NA &    NA\\\\\n",
       "\tTotal & 19 & 1.70278435 & 1.00000000 &        NA &    NA\\\\\n",
       "\\end{tabular}\n"
      ],
      "text/markdown": [
       "\n",
       "A anova.cca: 3 × 5\n",
       "\n",
       "| <!--/--> | Df &lt;dbl&gt; | SumOfSqs &lt;dbl&gt; | R2 &lt;dbl&gt; | F &lt;dbl&gt; | Pr(&gt;F) &lt;dbl&gt; |\n",
       "|---|---|---|---|---|---|\n",
       "| Transgenic |  1 | 0.08475462 | 0.04977413 | 0.9428647 | 0.546 |\n",
       "| Residual | 18 | 1.61802973 | 0.95022587 |        NA |    NA |\n",
       "| Total | 19 | 1.70278435 | 1.00000000 |        NA |    NA |\n",
       "\n"
      ],
      "text/plain": [
       "           Df SumOfSqs   R2         F         Pr(>F)\n",
       "Transgenic  1 0.08475462 0.04977413 0.9428647 0.546 \n",
       "Residual   18 1.61802973 0.95022587        NA    NA \n",
       "Total      19 1.70278435 1.00000000        NA    NA "
      ]
     },
     "metadata": {},
     "output_type": "display_data"
    }
   ],
   "source": [
    "#Unweighted UniFrac\n",
    "\n",
    "alz.dist.unif.1 = distance(alz_group_one, method = \"unifrac\", type = \"samples\")\n",
    "alz.unif.adtest.1 = adonis2(alz.dist.unif.1 ~ Transgenic, data=alz_group_one.df)\n",
    "alz.unif.adtest.1\n",
    "\n",
    "alz.dist.unif.2 = distance(alz_group_two, method = \"unifrac\", type = \"samples\")\n",
    "alz.unif.adtest.2 = adonis2(alz.dist.unif.2 ~ Transgenic, data=alz_group_two.df)\n",
    "alz.unif.adtest.2\n",
    "\n",
    "alz.dist.unif.3 = distance(alz_group_one, method = \"unifrac\", type = \"samples\")\n",
    "alz.unif.adtest.3 = adonis2(alz.dist.unif.3 ~ Transgenic, data=alz_group_three.df)\n",
    "alz.unif.adtest.3\n",
    "\n",
    "alz.dist.unif.4 = distance(alz_group_one, method = \"unifrac\", type = \"samples\")\n",
    "alz.unif.adtest.4 = adonis2(alz.dist.unif.4 ~ Transgenic, data=alz_group_four.df)\n",
    "alz.unif.adtest.4"
   ]
  },
  {
   "cell_type": "code",
   "execution_count": 75,
   "metadata": {},
   "outputs": [
    {
     "data": {
      "text/html": [
       "<style>\n",
       ".list-inline {list-style: none; margin:0; padding: 0}\n",
       ".list-inline>li {display: inline-block}\n",
       ".list-inline>li:not(:last-child)::after {content: \"\\00b7\"; padding: 0 .5ex}\n",
       "</style>\n",
       "<ol class=list-inline><li>0.016</li><li>0.728</li><li>0.899</li><li>0.728</li></ol>\n"
      ],
      "text/latex": [
       "\\begin{enumerate*}\n",
       "\\item 0.016\n",
       "\\item 0.728\n",
       "\\item 0.899\n",
       "\\item 0.728\n",
       "\\end{enumerate*}\n"
      ],
      "text/markdown": [
       "1. 0.016\n",
       "2. 0.728\n",
       "3. 0.899\n",
       "4. 0.728\n",
       "\n",
       "\n"
      ],
      "text/plain": [
       "[1] 0.016 0.728 0.899 0.728"
      ]
     },
     "metadata": {},
     "output_type": "display_data"
    }
   ],
   "source": [
    "#FDR p-value correction for unweighted UniFrac PERMANOVA\n",
    "p = c(\"0.004\",\"0.438\",\"0.899\",\"0.546\")\n",
    "p.adjust(p, method = \"fdr\", n = length(p))"
   ]
  },
  {
   "cell_type": "code",
   "execution_count": 34,
   "metadata": {},
   "outputs": [
    {
     "name": "stderr",
     "output_type": "stream",
     "text": [
      "Warning message in UniFrac(physeq, weighted = TRUE, ...):\n",
      "“Randomly assigning root as -- TACGTAGGGTCCAAGCATTATCCGGAGTGACTGGGTGTAAAGAGTTGCGTAGGTGGCATAATAAGTAACTAGTGAAATCTGGTGGCTCAACCATTCAGACTATTAGTTAAACTGTTAAGCTCGAGACCGTTAGGGGTAACTGGAATTTCT -- in the phylogenetic tree in the data you provided.”\n"
     ]
    },
    {
     "data": {
      "text/html": [
       "<table>\n",
       "<caption>A anova.cca: 3 × 5</caption>\n",
       "<thead>\n",
       "\t<tr><th></th><th scope=col>Df</th><th scope=col>SumOfSqs</th><th scope=col>R2</th><th scope=col>F</th><th scope=col>Pr(&gt;F)</th></tr>\n",
       "\t<tr><th></th><th scope=col>&lt;dbl&gt;</th><th scope=col>&lt;dbl&gt;</th><th scope=col>&lt;dbl&gt;</th><th scope=col>&lt;dbl&gt;</th><th scope=col>&lt;dbl&gt;</th></tr>\n",
       "</thead>\n",
       "<tbody>\n",
       "\t<tr><th scope=row>Transgenic</th><td> 1</td><td>0.01425072</td><td>0.0853592</td><td>1.679857</td><td>0.109</td></tr>\n",
       "\t<tr><th scope=row>Residual</th><td>18</td><td>0.15269935</td><td>0.9146408</td><td>      NA</td><td>   NA</td></tr>\n",
       "\t<tr><th scope=row>Total</th><td>19</td><td>0.16695008</td><td>1.0000000</td><td>      NA</td><td>   NA</td></tr>\n",
       "</tbody>\n",
       "</table>\n"
      ],
      "text/latex": [
       "A anova.cca: 3 × 5\n",
       "\\begin{tabular}{r|lllll}\n",
       "  & Df & SumOfSqs & R2 & F & Pr(>F)\\\\\n",
       "  & <dbl> & <dbl> & <dbl> & <dbl> & <dbl>\\\\\n",
       "\\hline\n",
       "\tTransgenic &  1 & 0.01425072 & 0.0853592 & 1.679857 & 0.109\\\\\n",
       "\tResidual & 18 & 0.15269935 & 0.9146408 &       NA &    NA\\\\\n",
       "\tTotal & 19 & 0.16695008 & 1.0000000 &       NA &    NA\\\\\n",
       "\\end{tabular}\n"
      ],
      "text/markdown": [
       "\n",
       "A anova.cca: 3 × 5\n",
       "\n",
       "| <!--/--> | Df &lt;dbl&gt; | SumOfSqs &lt;dbl&gt; | R2 &lt;dbl&gt; | F &lt;dbl&gt; | Pr(&gt;F) &lt;dbl&gt; |\n",
       "|---|---|---|---|---|---|\n",
       "| Transgenic |  1 | 0.01425072 | 0.0853592 | 1.679857 | 0.109 |\n",
       "| Residual | 18 | 0.15269935 | 0.9146408 |       NA |    NA |\n",
       "| Total | 19 | 0.16695008 | 1.0000000 |       NA |    NA |\n",
       "\n"
      ],
      "text/plain": [
       "           Df SumOfSqs   R2        F        Pr(>F)\n",
       "Transgenic  1 0.01425072 0.0853592 1.679857 0.109 \n",
       "Residual   18 0.15269935 0.9146408       NA    NA \n",
       "Total      19 0.16695008 1.0000000       NA    NA "
      ]
     },
     "metadata": {},
     "output_type": "display_data"
    },
    {
     "name": "stderr",
     "output_type": "stream",
     "text": [
      "Warning message in UniFrac(physeq, weighted = TRUE, ...):\n",
      "“Randomly assigning root as -- TACGTAGGGGGCAAGCGTTATCCGGATTTACTGGGTGTAAAGGGAGCGTAGACGGCACGGCAAGCCAGATGTGAAAGCCCGGGGCTCAACCCCGGGACTGCATTTGGAACTGCTGAGCTAGAGTGTCGGAGAGGCAAGTGGAATTCCTAG -- in the phylogenetic tree in the data you provided.”\n"
     ]
    },
    {
     "data": {
      "text/html": [
       "<table>\n",
       "<caption>A anova.cca: 3 × 5</caption>\n",
       "<thead>\n",
       "\t<tr><th></th><th scope=col>Df</th><th scope=col>SumOfSqs</th><th scope=col>R2</th><th scope=col>F</th><th scope=col>Pr(&gt;F)</th></tr>\n",
       "\t<tr><th></th><th scope=col>&lt;dbl&gt;</th><th scope=col>&lt;dbl&gt;</th><th scope=col>&lt;dbl&gt;</th><th scope=col>&lt;dbl&gt;</th><th scope=col>&lt;dbl&gt;</th></tr>\n",
       "</thead>\n",
       "<tbody>\n",
       "\t<tr><th scope=row>Transgenic</th><td> 1</td><td>0.02503609</td><td>0.05859218</td><td>1.1203</td><td>0.32</td></tr>\n",
       "\t<tr><th scope=row>Residual</th><td>18</td><td>0.40225799</td><td>0.94140782</td><td>    NA</td><td>  NA</td></tr>\n",
       "\t<tr><th scope=row>Total</th><td>19</td><td>0.42729408</td><td>1.00000000</td><td>    NA</td><td>  NA</td></tr>\n",
       "</tbody>\n",
       "</table>\n"
      ],
      "text/latex": [
       "A anova.cca: 3 × 5\n",
       "\\begin{tabular}{r|lllll}\n",
       "  & Df & SumOfSqs & R2 & F & Pr(>F)\\\\\n",
       "  & <dbl> & <dbl> & <dbl> & <dbl> & <dbl>\\\\\n",
       "\\hline\n",
       "\tTransgenic &  1 & 0.02503609 & 0.05859218 & 1.1203 & 0.32\\\\\n",
       "\tResidual & 18 & 0.40225799 & 0.94140782 &     NA &   NA\\\\\n",
       "\tTotal & 19 & 0.42729408 & 1.00000000 &     NA &   NA\\\\\n",
       "\\end{tabular}\n"
      ],
      "text/markdown": [
       "\n",
       "A anova.cca: 3 × 5\n",
       "\n",
       "| <!--/--> | Df &lt;dbl&gt; | SumOfSqs &lt;dbl&gt; | R2 &lt;dbl&gt; | F &lt;dbl&gt; | Pr(&gt;F) &lt;dbl&gt; |\n",
       "|---|---|---|---|---|---|\n",
       "| Transgenic |  1 | 0.02503609 | 0.05859218 | 1.1203 | 0.32 |\n",
       "| Residual | 18 | 0.40225799 | 0.94140782 |     NA |   NA |\n",
       "| Total | 19 | 0.42729408 | 1.00000000 |     NA |   NA |\n",
       "\n"
      ],
      "text/plain": [
       "           Df SumOfSqs   R2         F      Pr(>F)\n",
       "Transgenic  1 0.02503609 0.05859218 1.1203 0.32  \n",
       "Residual   18 0.40225799 0.94140782     NA   NA  \n",
       "Total      19 0.42729408 1.00000000     NA   NA  "
      ]
     },
     "metadata": {},
     "output_type": "display_data"
    },
    {
     "name": "stderr",
     "output_type": "stream",
     "text": [
      "Warning message in UniFrac(physeq, weighted = TRUE, ...):\n",
      "“Randomly assigning root as -- TACGGAGGATCCAAGCGTTATCCGGATTTATTGGGTTTAAAGGGTGCGTAGGCGGATTGATAAGTTAGAGGTGAAATGTCCGAGCTCAACTCGGGAACTGCCTCTAATACTGTTGATCTAGAGAGTAGATGCGGTAGGCGGAATGTATGG -- in the phylogenetic tree in the data you provided.”\n"
     ]
    },
    {
     "data": {
      "text/html": [
       "<table>\n",
       "<caption>A anova.cca: 3 × 5</caption>\n",
       "<thead>\n",
       "\t<tr><th></th><th scope=col>Df</th><th scope=col>SumOfSqs</th><th scope=col>R2</th><th scope=col>F</th><th scope=col>Pr(&gt;F)</th></tr>\n",
       "\t<tr><th></th><th scope=col>&lt;dbl&gt;</th><th scope=col>&lt;dbl&gt;</th><th scope=col>&lt;dbl&gt;</th><th scope=col>&lt;dbl&gt;</th><th scope=col>&lt;dbl&gt;</th></tr>\n",
       "</thead>\n",
       "<tbody>\n",
       "\t<tr><th scope=row>Transgenic</th><td> 1</td><td>0.0125553</td><td>0.02811026</td><td>0.5206195</td><td>0.866</td></tr>\n",
       "\t<tr><th scope=row>Residual</th><td>18</td><td>0.4340893</td><td>0.97188974</td><td>       NA</td><td>   NA</td></tr>\n",
       "\t<tr><th scope=row>Total</th><td>19</td><td>0.4466446</td><td>1.00000000</td><td>       NA</td><td>   NA</td></tr>\n",
       "</tbody>\n",
       "</table>\n"
      ],
      "text/latex": [
       "A anova.cca: 3 × 5\n",
       "\\begin{tabular}{r|lllll}\n",
       "  & Df & SumOfSqs & R2 & F & Pr(>F)\\\\\n",
       "  & <dbl> & <dbl> & <dbl> & <dbl> & <dbl>\\\\\n",
       "\\hline\n",
       "\tTransgenic &  1 & 0.0125553 & 0.02811026 & 0.5206195 & 0.866\\\\\n",
       "\tResidual & 18 & 0.4340893 & 0.97188974 &        NA &    NA\\\\\n",
       "\tTotal & 19 & 0.4466446 & 1.00000000 &        NA &    NA\\\\\n",
       "\\end{tabular}\n"
      ],
      "text/markdown": [
       "\n",
       "A anova.cca: 3 × 5\n",
       "\n",
       "| <!--/--> | Df &lt;dbl&gt; | SumOfSqs &lt;dbl&gt; | R2 &lt;dbl&gt; | F &lt;dbl&gt; | Pr(&gt;F) &lt;dbl&gt; |\n",
       "|---|---|---|---|---|---|\n",
       "| Transgenic |  1 | 0.0125553 | 0.02811026 | 0.5206195 | 0.866 |\n",
       "| Residual | 18 | 0.4340893 | 0.97188974 |        NA |    NA |\n",
       "| Total | 19 | 0.4466446 | 1.00000000 |        NA |    NA |\n",
       "\n"
      ],
      "text/plain": [
       "           Df SumOfSqs  R2         F         Pr(>F)\n",
       "Transgenic  1 0.0125553 0.02811026 0.5206195 0.866 \n",
       "Residual   18 0.4340893 0.97188974        NA    NA \n",
       "Total      19 0.4466446 1.00000000        NA    NA "
      ]
     },
     "metadata": {},
     "output_type": "display_data"
    },
    {
     "name": "stderr",
     "output_type": "stream",
     "text": [
      "Warning message in UniFrac(physeq, weighted = TRUE, ...):\n",
      "“Randomly assigning root as -- TACGTAGGGGGCAAGCGTTATCCGGATTTACTGGGTGTAAAGGGAGCGTAGACGGCGCAGCAAGTCTGATGTGAAAGGCAGGGGCTTAACCCCTGGACTGCATTGGAAACTGCTGTGCTTGAGTGCCGGAGGGGTAAGCGGAATTCCTAG -- in the phylogenetic tree in the data you provided.”\n"
     ]
    },
    {
     "data": {
      "text/html": [
       "<table>\n",
       "<caption>A anova.cca: 3 × 5</caption>\n",
       "<thead>\n",
       "\t<tr><th></th><th scope=col>Df</th><th scope=col>SumOfSqs</th><th scope=col>R2</th><th scope=col>F</th><th scope=col>Pr(&gt;F)</th></tr>\n",
       "\t<tr><th></th><th scope=col>&lt;dbl&gt;</th><th scope=col>&lt;dbl&gt;</th><th scope=col>&lt;dbl&gt;</th><th scope=col>&lt;dbl&gt;</th><th scope=col>&lt;dbl&gt;</th></tr>\n",
       "</thead>\n",
       "<tbody>\n",
       "\t<tr><th scope=row>Transgenic</th><td> 1</td><td>0.02342335</td><td>0.06637437</td><td>1.279676</td><td>0.252</td></tr>\n",
       "\t<tr><th scope=row>Residual</th><td>18</td><td>0.32947409</td><td>0.93362563</td><td>      NA</td><td>   NA</td></tr>\n",
       "\t<tr><th scope=row>Total</th><td>19</td><td>0.35289744</td><td>1.00000000</td><td>      NA</td><td>   NA</td></tr>\n",
       "</tbody>\n",
       "</table>\n"
      ],
      "text/latex": [
       "A anova.cca: 3 × 5\n",
       "\\begin{tabular}{r|lllll}\n",
       "  & Df & SumOfSqs & R2 & F & Pr(>F)\\\\\n",
       "  & <dbl> & <dbl> & <dbl> & <dbl> & <dbl>\\\\\n",
       "\\hline\n",
       "\tTransgenic &  1 & 0.02342335 & 0.06637437 & 1.279676 & 0.252\\\\\n",
       "\tResidual & 18 & 0.32947409 & 0.93362563 &       NA &    NA\\\\\n",
       "\tTotal & 19 & 0.35289744 & 1.00000000 &       NA &    NA\\\\\n",
       "\\end{tabular}\n"
      ],
      "text/markdown": [
       "\n",
       "A anova.cca: 3 × 5\n",
       "\n",
       "| <!--/--> | Df &lt;dbl&gt; | SumOfSqs &lt;dbl&gt; | R2 &lt;dbl&gt; | F &lt;dbl&gt; | Pr(&gt;F) &lt;dbl&gt; |\n",
       "|---|---|---|---|---|---|\n",
       "| Transgenic |  1 | 0.02342335 | 0.06637437 | 1.279676 | 0.252 |\n",
       "| Residual | 18 | 0.32947409 | 0.93362563 |       NA |    NA |\n",
       "| Total | 19 | 0.35289744 | 1.00000000 |       NA |    NA |\n",
       "\n"
      ],
      "text/plain": [
       "           Df SumOfSqs   R2         F        Pr(>F)\n",
       "Transgenic  1 0.02342335 0.06637437 1.279676 0.252 \n",
       "Residual   18 0.32947409 0.93362563       NA    NA \n",
       "Total      19 0.35289744 1.00000000       NA    NA "
      ]
     },
     "metadata": {},
     "output_type": "display_data"
    }
   ],
   "source": [
    "#Weighted wunifrac\n",
    "\n",
    "alz.dist.wunif.1 = distance(alz_group_one, method = \"wunifrac\", type = \"samples\")\n",
    "alz.wunif.adtest.1 = adonis2(alz.dist.wunif.1 ~ Transgenic, data=alz_group_one.df)\n",
    "alz.wunif.adtest.1\n",
    "\n",
    "alz.dist.wunif.2 = distance(alz_group_two, method = \"wunifrac\", type = \"samples\")\n",
    "alz.wunif.adtest.2 = adonis2(alz.dist.wunif.2 ~ Transgenic, data=alz_group_two.df)\n",
    "alz.wunif.adtest.2\n",
    "\n",
    "alz.dist.wunif.3 = distance(alz_group_one, method = \"wunifrac\", type = \"samples\")\n",
    "alz.wunif.adtest.3 = adonis2(alz.dist.wunif.3 ~ Transgenic, data=alz_group_three.df)\n",
    "alz.wunif.adtest.3\n",
    "\n",
    "alz.dist.wunif.4 = distance(alz_group_one, method = \"wunifrac\", type = \"samples\")\n",
    "alz.wunif.adtest.4 = adonis2(alz.dist.wunif.4 ~ Transgenic, data=alz_group_four.df)\n",
    "alz.wunif.adtest.4"
   ]
  },
  {
   "cell_type": "code",
   "execution_count": 74,
   "metadata": {},
   "outputs": [
    {
     "data": {
      "text/html": [
       "<style>\n",
       ".list-inline {list-style: none; margin:0; padding: 0}\n",
       ".list-inline>li {display: inline-block}\n",
       ".list-inline>li:not(:last-child)::after {content: \"\\00b7\"; padding: 0 .5ex}\n",
       "</style>\n",
       "<ol class=list-inline><li>0.426666666666667</li><li>0.426666666666667</li><li>0.866</li><li>0.426666666666667</li></ol>\n"
      ],
      "text/latex": [
       "\\begin{enumerate*}\n",
       "\\item 0.426666666666667\n",
       "\\item 0.426666666666667\n",
       "\\item 0.866\n",
       "\\item 0.426666666666667\n",
       "\\end{enumerate*}\n"
      ],
      "text/markdown": [
       "1. 0.426666666666667\n",
       "2. 0.426666666666667\n",
       "3. 0.866\n",
       "4. 0.426666666666667\n",
       "\n",
       "\n"
      ],
      "text/plain": [
       "[1] 0.4266667 0.4266667 0.8660000 0.4266667"
      ]
     },
     "metadata": {},
     "output_type": "display_data"
    }
   ],
   "source": [
    "#FDR p-value correction for weighted UniFrac PERMANOVA\n",
    "p = c(\"0.109\",\"0.32\",\"0.866\",\"0.252\")\n",
    "p.adjust(p, method = \"fdr\", n = length(p))"
   ]
  },
  {
   "cell_type": "code",
   "execution_count": 35,
   "metadata": {},
   "outputs": [
    {
     "data": {
      "text/html": [
       "<table>\n",
       "<caption>A anova.cca: 3 × 5</caption>\n",
       "<thead>\n",
       "\t<tr><th></th><th scope=col>Df</th><th scope=col>SumOfSqs</th><th scope=col>R2</th><th scope=col>F</th><th scope=col>Pr(&gt;F)</th></tr>\n",
       "\t<tr><th></th><th scope=col>&lt;dbl&gt;</th><th scope=col>&lt;dbl&gt;</th><th scope=col>&lt;dbl&gt;</th><th scope=col>&lt;dbl&gt;</th><th scope=col>&lt;dbl&gt;</th></tr>\n",
       "</thead>\n",
       "<tbody>\n",
       "\t<tr><th scope=row>Transgenic</th><td> 1</td><td>0.3370569</td><td>0.12469</td><td>2.564142</td><td>0.004</td></tr>\n",
       "\t<tr><th scope=row>Residual</th><td>18</td><td>2.3661028</td><td>0.87531</td><td>      NA</td><td>   NA</td></tr>\n",
       "\t<tr><th scope=row>Total</th><td>19</td><td>2.7031597</td><td>1.00000</td><td>      NA</td><td>   NA</td></tr>\n",
       "</tbody>\n",
       "</table>\n"
      ],
      "text/latex": [
       "A anova.cca: 3 × 5\n",
       "\\begin{tabular}{r|lllll}\n",
       "  & Df & SumOfSqs & R2 & F & Pr(>F)\\\\\n",
       "  & <dbl> & <dbl> & <dbl> & <dbl> & <dbl>\\\\\n",
       "\\hline\n",
       "\tTransgenic &  1 & 0.3370569 & 0.12469 & 2.564142 & 0.004\\\\\n",
       "\tResidual & 18 & 2.3661028 & 0.87531 &       NA &    NA\\\\\n",
       "\tTotal & 19 & 2.7031597 & 1.00000 &       NA &    NA\\\\\n",
       "\\end{tabular}\n"
      ],
      "text/markdown": [
       "\n",
       "A anova.cca: 3 × 5\n",
       "\n",
       "| <!--/--> | Df &lt;dbl&gt; | SumOfSqs &lt;dbl&gt; | R2 &lt;dbl&gt; | F &lt;dbl&gt; | Pr(&gt;F) &lt;dbl&gt; |\n",
       "|---|---|---|---|---|---|\n",
       "| Transgenic |  1 | 0.3370569 | 0.12469 | 2.564142 | 0.004 |\n",
       "| Residual | 18 | 2.3661028 | 0.87531 |       NA |    NA |\n",
       "| Total | 19 | 2.7031597 | 1.00000 |       NA |    NA |\n",
       "\n"
      ],
      "text/plain": [
       "           Df SumOfSqs  R2      F        Pr(>F)\n",
       "Transgenic  1 0.3370569 0.12469 2.564142 0.004 \n",
       "Residual   18 2.3661028 0.87531       NA    NA \n",
       "Total      19 2.7031597 1.00000       NA    NA "
      ]
     },
     "metadata": {},
     "output_type": "display_data"
    },
    {
     "data": {
      "text/html": [
       "<table>\n",
       "<caption>A anova.cca: 3 × 5</caption>\n",
       "<thead>\n",
       "\t<tr><th></th><th scope=col>Df</th><th scope=col>SumOfSqs</th><th scope=col>R2</th><th scope=col>F</th><th scope=col>Pr(&gt;F)</th></tr>\n",
       "\t<tr><th></th><th scope=col>&lt;dbl&gt;</th><th scope=col>&lt;dbl&gt;</th><th scope=col>&lt;dbl&gt;</th><th scope=col>&lt;dbl&gt;</th><th scope=col>&lt;dbl&gt;</th></tr>\n",
       "</thead>\n",
       "<tbody>\n",
       "\t<tr><th scope=row>Transgenic</th><td> 1</td><td>0.124541</td><td>0.03809051</td><td>0.7127792</td><td>0.791</td></tr>\n",
       "\t<tr><th scope=row>Residual</th><td>18</td><td>3.145066</td><td>0.96190949</td><td>       NA</td><td>   NA</td></tr>\n",
       "\t<tr><th scope=row>Total</th><td>19</td><td>3.269607</td><td>1.00000000</td><td>       NA</td><td>   NA</td></tr>\n",
       "</tbody>\n",
       "</table>\n"
      ],
      "text/latex": [
       "A anova.cca: 3 × 5\n",
       "\\begin{tabular}{r|lllll}\n",
       "  & Df & SumOfSqs & R2 & F & Pr(>F)\\\\\n",
       "  & <dbl> & <dbl> & <dbl> & <dbl> & <dbl>\\\\\n",
       "\\hline\n",
       "\tTransgenic &  1 & 0.124541 & 0.03809051 & 0.7127792 & 0.791\\\\\n",
       "\tResidual & 18 & 3.145066 & 0.96190949 &        NA &    NA\\\\\n",
       "\tTotal & 19 & 3.269607 & 1.00000000 &        NA &    NA\\\\\n",
       "\\end{tabular}\n"
      ],
      "text/markdown": [
       "\n",
       "A anova.cca: 3 × 5\n",
       "\n",
       "| <!--/--> | Df &lt;dbl&gt; | SumOfSqs &lt;dbl&gt; | R2 &lt;dbl&gt; | F &lt;dbl&gt; | Pr(&gt;F) &lt;dbl&gt; |\n",
       "|---|---|---|---|---|---|\n",
       "| Transgenic |  1 | 0.124541 | 0.03809051 | 0.7127792 | 0.791 |\n",
       "| Residual | 18 | 3.145066 | 0.96190949 |        NA |    NA |\n",
       "| Total | 19 | 3.269607 | 1.00000000 |        NA |    NA |\n",
       "\n"
      ],
      "text/plain": [
       "           Df SumOfSqs R2         F         Pr(>F)\n",
       "Transgenic  1 0.124541 0.03809051 0.7127792 0.791 \n",
       "Residual   18 3.145066 0.96190949        NA    NA \n",
       "Total      19 3.269607 1.00000000        NA    NA "
      ]
     },
     "metadata": {},
     "output_type": "display_data"
    },
    {
     "data": {
      "text/html": [
       "<table>\n",
       "<caption>A anova.cca: 3 × 5</caption>\n",
       "<thead>\n",
       "\t<tr><th></th><th scope=col>Df</th><th scope=col>SumOfSqs</th><th scope=col>R2</th><th scope=col>F</th><th scope=col>Pr(&gt;F)</th></tr>\n",
       "\t<tr><th></th><th scope=col>&lt;dbl&gt;</th><th scope=col>&lt;dbl&gt;</th><th scope=col>&lt;dbl&gt;</th><th scope=col>&lt;dbl&gt;</th><th scope=col>&lt;dbl&gt;</th></tr>\n",
       "</thead>\n",
       "<tbody>\n",
       "\t<tr><th scope=row>Transgenic</th><td> 1</td><td>0.09004545</td><td>0.03331118</td><td>0.620263</td><td>0.869</td></tr>\n",
       "\t<tr><th scope=row>Residual</th><td>18</td><td>2.61311426</td><td>0.96668882</td><td>      NA</td><td>   NA</td></tr>\n",
       "\t<tr><th scope=row>Total</th><td>19</td><td>2.70315970</td><td>1.00000000</td><td>      NA</td><td>   NA</td></tr>\n",
       "</tbody>\n",
       "</table>\n"
      ],
      "text/latex": [
       "A anova.cca: 3 × 5\n",
       "\\begin{tabular}{r|lllll}\n",
       "  & Df & SumOfSqs & R2 & F & Pr(>F)\\\\\n",
       "  & <dbl> & <dbl> & <dbl> & <dbl> & <dbl>\\\\\n",
       "\\hline\n",
       "\tTransgenic &  1 & 0.09004545 & 0.03331118 & 0.620263 & 0.869\\\\\n",
       "\tResidual & 18 & 2.61311426 & 0.96668882 &       NA &    NA\\\\\n",
       "\tTotal & 19 & 2.70315970 & 1.00000000 &       NA &    NA\\\\\n",
       "\\end{tabular}\n"
      ],
      "text/markdown": [
       "\n",
       "A anova.cca: 3 × 5\n",
       "\n",
       "| <!--/--> | Df &lt;dbl&gt; | SumOfSqs &lt;dbl&gt; | R2 &lt;dbl&gt; | F &lt;dbl&gt; | Pr(&gt;F) &lt;dbl&gt; |\n",
       "|---|---|---|---|---|---|\n",
       "| Transgenic |  1 | 0.09004545 | 0.03331118 | 0.620263 | 0.869 |\n",
       "| Residual | 18 | 2.61311426 | 0.96668882 |       NA |    NA |\n",
       "| Total | 19 | 2.70315970 | 1.00000000 |       NA |    NA |\n",
       "\n"
      ],
      "text/plain": [
       "           Df SumOfSqs   R2         F        Pr(>F)\n",
       "Transgenic  1 0.09004545 0.03331118 0.620263 0.869 \n",
       "Residual   18 2.61311426 0.96668882       NA    NA \n",
       "Total      19 2.70315970 1.00000000       NA    NA "
      ]
     },
     "metadata": {},
     "output_type": "display_data"
    },
    {
     "data": {
      "text/html": [
       "<table>\n",
       "<caption>A anova.cca: 3 × 5</caption>\n",
       "<thead>\n",
       "\t<tr><th></th><th scope=col>Df</th><th scope=col>SumOfSqs</th><th scope=col>R2</th><th scope=col>F</th><th scope=col>Pr(&gt;F)</th></tr>\n",
       "\t<tr><th></th><th scope=col>&lt;dbl&gt;</th><th scope=col>&lt;dbl&gt;</th><th scope=col>&lt;dbl&gt;</th><th scope=col>&lt;dbl&gt;</th><th scope=col>&lt;dbl&gt;</th></tr>\n",
       "</thead>\n",
       "<tbody>\n",
       "\t<tr><th scope=row>Transgenic</th><td> 1</td><td>0.1406336</td><td>0.05202563</td><td>0.9878552</td><td>0.439</td></tr>\n",
       "\t<tr><th scope=row>Residual</th><td>18</td><td>2.5625261</td><td>0.94797437</td><td>       NA</td><td>   NA</td></tr>\n",
       "\t<tr><th scope=row>Total</th><td>19</td><td>2.7031597</td><td>1.00000000</td><td>       NA</td><td>   NA</td></tr>\n",
       "</tbody>\n",
       "</table>\n"
      ],
      "text/latex": [
       "A anova.cca: 3 × 5\n",
       "\\begin{tabular}{r|lllll}\n",
       "  & Df & SumOfSqs & R2 & F & Pr(>F)\\\\\n",
       "  & <dbl> & <dbl> & <dbl> & <dbl> & <dbl>\\\\\n",
       "\\hline\n",
       "\tTransgenic &  1 & 0.1406336 & 0.05202563 & 0.9878552 & 0.439\\\\\n",
       "\tResidual & 18 & 2.5625261 & 0.94797437 &        NA &    NA\\\\\n",
       "\tTotal & 19 & 2.7031597 & 1.00000000 &        NA &    NA\\\\\n",
       "\\end{tabular}\n"
      ],
      "text/markdown": [
       "\n",
       "A anova.cca: 3 × 5\n",
       "\n",
       "| <!--/--> | Df &lt;dbl&gt; | SumOfSqs &lt;dbl&gt; | R2 &lt;dbl&gt; | F &lt;dbl&gt; | Pr(&gt;F) &lt;dbl&gt; |\n",
       "|---|---|---|---|---|---|\n",
       "| Transgenic |  1 | 0.1406336 | 0.05202563 | 0.9878552 | 0.439 |\n",
       "| Residual | 18 | 2.5625261 | 0.94797437 |        NA |    NA |\n",
       "| Total | 19 | 2.7031597 | 1.00000000 |        NA |    NA |\n",
       "\n"
      ],
      "text/plain": [
       "           Df SumOfSqs  R2         F         Pr(>F)\n",
       "Transgenic  1 0.1406336 0.05202563 0.9878552 0.439 \n",
       "Residual   18 2.5625261 0.94797437        NA    NA \n",
       "Total      19 2.7031597 1.00000000        NA    NA "
      ]
     },
     "metadata": {},
     "output_type": "display_data"
    }
   ],
   "source": [
    "#Bray Curtis\n",
    "\n",
    "alz.dist.bc.1 = distance(alz_group_one, method = \"bray\", type = \"samples\")\n",
    "alz.bc.adtest.1 = adonis2(alz.dist.bc.1 ~ Transgenic, data=alz_group_one.df)\n",
    "alz.bc.adtest.1\n",
    "\n",
    "alz.dist.bc.2 = distance(alz_group_two, method = \"bray\", type = \"samples\")\n",
    "alz.bc.adtest.2 = adonis2(alz.dist.bc.2 ~ Transgenic, data=alz_group_two.df)\n",
    "alz.bc.adtest.2\n",
    "\n",
    "alz.dist.bc.3 = distance(alz_group_one, method = \"bray\", type = \"samples\")\n",
    "alz.bc.adtest.3 = adonis2(alz.dist.bc.3 ~ Transgenic, data=alz_group_three.df)\n",
    "alz.bc.adtest.3\n",
    "\n",
    "alz.dist.bc.4 = distance(alz_group_one, method = \"bray\", type = \"samples\")\n",
    "alz.bc.adtest.4 = adonis2(alz.dist.bc.4 ~ Transgenic, data=alz_group_four.df)\n",
    "alz.bc.adtest.4"
   ]
  },
  {
   "cell_type": "code",
   "execution_count": 65,
   "metadata": {},
   "outputs": [
    {
     "name": "stderr",
     "output_type": "stream",
     "text": [
      "Warning message in UniFrac(physeq, ...):\n",
      "“Randomly assigning root as -- TACGTAGGGAGCAAGCGTTGTCCGGATTTACTGGGTGTAAAGGGTGCGTAGGCGGCTTTGCAAGTCAGATGTGAAATCTATGGGCTCAACCCATAAACTGCATTTGAAACTGTAGAGCTTGAGTGAAGTAGAGGCAGGCGGAATTCCCCG -- in the phylogenetic tree in the data you provided.”\n",
      "Warning message in UniFrac(physeq, ...):\n",
      "“Randomly assigning root as -- TACGTAGGGGGCAAGCGTTATCCGGAATTACTGGGTGTAAAGGGAGAGTAGGCGGCAAGGTAAGCGATATGTGAAAGCCTTAGGCTTAACCTGAGGATTGCATAACGAACTATCTAGCTAGAGTACAGGAGAGGAAAGCGGAATTCTTAG -- in the phylogenetic tree in the data you provided.”\n"
     ]
    },
    {
     "data": {
      "text/html": [
       "<strong>png:</strong> 2"
      ],
      "text/latex": [
       "\\textbf{png:} 2"
      ],
      "text/markdown": [
       "**png:** 2"
      ],
      "text/plain": [
       "png \n",
       "  2 "
      ]
     },
     "metadata": {},
     "output_type": "display_data"
    },
    {
     "data": {
      "image/png": "[encoded data removed]",
      "text/plain": [
       "plot without title"
      ]
     },
     "metadata": {
      "image/png": {
       "height": 420,
       "width": 420
      },
      "text/plain": {
       "height": 420,
       "width": 420
      }
     },
     "output_type": "display_data"
    }
   ],
   "source": [
    "#Group ONE - UNIFRAC\n",
    "\n",
    "alz.dist.one = distance(alz_group_one, method = \"unifrac\", type = \"samples\")\n",
    "alz.dist.log.one = ordinate(alz_group_one, method = \"PCoA\", distance = \"unifrac\")\n",
    "alz.dist.evals.one = alz.dist.log.one$values$Eigenvalues.one\n",
    "\n",
    "p = plot_ordination(alz_group_one, alz.dist.log.one, color = \"Transgenic\", shape = \"Transgenic\") + #, label=\"X.SampleID\") + \n",
    "    ggtitle(\"Group One - Unweighted UniFrac\") +\n",
    "    geom_point(size=3, alpha=0.8) + \n",
    "    #scale_colour_viridis(option=\"viridis\", discrete=TRUE, direction=1) +\n",
    "    scale_colour_manual(values=c(\"#004d4d\", \"#5077be\")) +\n",
    "    stat_ellipse(level=0.95, geom=\"polygon\",alpha = .2, aes(fill = Transgenic), linetype=0) +\n",
    "    #scale_fill_viridis(option=\"viridis\", discrete=TRUE, direction=1)+\n",
    "    scale_fill_manual(values=c(\"#004d4d\", \"#5077be\")) +\n",
    "    coord_fixed(sqrt(alz.dist.evals[2] / alz.dist.evals[1]))\n",
    "\n",
    "p = p + guides(colour = guide_legend(title = \"Transgenic_status\", ncol = 2, keywidth = 1, keyheight = 1))\n",
    "\n",
    "p = p + theme_bw() + \n",
    "        theme(panel.grid.major = element_blank(),\n",
    "              axis.title.y=element_text(margin=margin(0,20,0,0)),\n",
    "              text=element_text(size=8, color=\"black\",family=\"Arial\"),\n",
    "              panel.grid.minor = element_blank(),\n",
    "              #axis.ticks = element_blank(),\n",
    "              #legend.key.size = unit(.1, \"in\"),\n",
    "              #legend.spacing.x = unit(.01,\"in\"),\n",
    "              legend.position = \"bottom\")\n",
    "\n",
    "p$layers <- p$layers[-1]\n",
    "\n",
    "p\n",
    "\n",
    "png('/home/holutz/projects/Alzheimers/Update_for_reviewers/bdiv_plots/g1.unif.pcoa.png', width=6, height=5, units='in', res=300)\n",
    "plot(p)\n",
    "dev.off()\n"
   ]
  },
  {
   "cell_type": "code",
   "execution_count": 66,
   "metadata": {},
   "outputs": [
    {
     "name": "stderr",
     "output_type": "stream",
     "text": [
      "Warning message in UniFrac(physeq, ...):\n",
      "“Randomly assigning root as -- TACGTAGGTGGCGAGCGTTATCCGGAATTATTGGGCGTAAAGAGGGAGCAGGCGGCAGCTAAGGTCTGCGGTGAAAGCCCGAAGCTAAACTTCGGTAAGCCGTGGAAACCGAGCAGCTAGAGTGCAGTAGAGGATCGTGGAATTCCATGT -- in the phylogenetic tree in the data you provided.”\n",
      "Warning message in UniFrac(physeq, ...):\n",
      "“Randomly assigning root as -- TACGTAGGGAGCAAGCGTTATCCGGATTTATTGGGTGTAAAGGGTGCGTAGACGGAGAAGCAAGTTAGTTGTGAAATCCCTCGGCTTAACTGAGGAACTGCAACTAAAACTACTTCCCTTGAGTACTGGAGAGGAAAGTGGAATTCCTAG -- in the phylogenetic tree in the data you provided.”\n"
     ]
    },
    {
     "data": {
      "text/html": [
       "<strong>png:</strong> 2"
      ],
      "text/latex": [
       "\\textbf{png:} 2"
      ],
      "text/markdown": [
       "**png:** 2"
      ],
      "text/plain": [
       "png \n",
       "  2 "
      ]
     },
     "metadata": {},
     "output_type": "display_data"
    },
    {
     "data": {
      "image/png": "[encoded data removed]",
      "text/plain": [
       "plot without title"
      ]
     },
     "metadata": {
      "image/png": {
       "height": 420,
       "width": 420
      },
      "text/plain": {
       "height": 420,
       "width": 420
      }
     },
     "output_type": "display_data"
    }
   ],
   "source": [
    "#Group two - UNIFRAC\n",
    "\n",
    "alz.dist.two = distance(alz_group_two, method = \"unifrac\", type = \"samples\")\n",
    "alz.dist.log.two = ordinate(alz_group_two, method = \"PCoA\", distance = \"unifrac\")\n",
    "alz.dist.evals.two = alz.dist.log.two$values$Eigenvalues.two\n",
    "\n",
    "p = plot_ordination(alz_group_two, alz.dist.log.two, color = \"Transgenic\", shape = \"Transgenic\") + #, label=\"X.SampleID\") + \n",
    "    ggtitle(\"Group Two - Unweighted UniFrac\") +\n",
    "    geom_point(size=3, alpha=0.8) + \n",
    "    #scale_colour_viridis(option=\"viridis\", discrete=TRUE, direction=1) +\n",
    "    scale_colour_manual(values=c(\"#004d4d\", \"#5077be\")) +\n",
    "    stat_ellipse(level=0.95, geom=\"polygon\",alpha = .2, aes(fill = Transgenic), linetype=0) +\n",
    "    #scale_fill_viridis(option=\"viridis\", discrete=TRUE, direction=1)+\n",
    "    scale_fill_manual(values=c(\"#004d4d\", \"#5077be\")) +\n",
    "    coord_fixed(sqrt(alz.dist.evals[2] / alz.dist.evals[1]))\n",
    "\n",
    "p = p + guides(colour = guide_legend(title = \"Transgenic_status\", ncol = 2, keywidth = 1, keyheight = 1))\n",
    "\n",
    "p = p + theme_bw() + \n",
    "        theme(panel.grid.major = element_blank(),\n",
    "              axis.title.y=element_text(margin=margin(0,20,0,0)),\n",
    "              text=element_text(size=8, color=\"black\",family=\"Arial\"),\n",
    "              panel.grid.minor = element_blank(),\n",
    "              #axis.ticks = element_blank(),\n",
    "              #legend.key.size = unit(.1, \"in\"),\n",
    "              #legend.spacing.x = unit(.01,\"in\"),\n",
    "              legend.position = \"bottom\")\n",
    "\n",
    "p$layers <- p$layers[-1]\n",
    "\n",
    "p\n",
    "\n",
    "png('/home/holutz/projects/Alzheimers/Update_for_reviewers/bdiv_plots/g2.unif.pcoa.png', width=6, height=5, units='in', res=300)\n",
    "plot(p)\n",
    "dev.off()"
   ]
  },
  {
   "cell_type": "code",
   "execution_count": 67,
   "metadata": {},
   "outputs": [
    {
     "name": "stderr",
     "output_type": "stream",
     "text": [
      "Warning message in UniFrac(physeq, ...):\n",
      "“Randomly assigning root as -- TACGTATGGAGCAAGCGTTATCCGGATTTACTGGGTGTAAAGGGAGCGCAGGCGGCTTTGCAAGTCTGATGTGAAAGGCCGGGGCTCAACCCCGGGACTGCATTGGAAACTGTAAAGCTAGAGTGCCGGAGAGGTAAGCGGAATTCCTAG -- in the phylogenetic tree in the data you provided.”\n",
      "Warning message in UniFrac(physeq, ...):\n",
      "“Randomly assigning root as -- TACGTAGGTGGCAAGCGTTGTCCGGATTTACTGGGTGTAAAGGGCGTGTAGGCGGGACTGCAAGTCAGGCGTGAAAACCAGAGGCTCAACCTCTGGCCTGCGTTTGAAACTGTGGTTCTTGAGTACTGGAGAGGTTGACGGAATTCCTAG -- in the phylogenetic tree in the data you provided.”\n"
     ]
    },
    {
     "data": {
      "text/html": [
       "<strong>png:</strong> 2"
      ],
      "text/latex": [
       "\\textbf{png:} 2"
      ],
      "text/markdown": [
       "**png:** 2"
      ],
      "text/plain": [
       "png \n",
       "  2 "
      ]
     },
     "metadata": {},
     "output_type": "display_data"
    },
    {
     "data": {
      "image/png": "[encoded data removed]",
      "text/plain": [
       "plot without title"
      ]
     },
     "metadata": {
      "image/png": {
       "height": 420,
       "width": 420
      },
      "text/plain": {
       "height": 420,
       "width": 420
      }
     },
     "output_type": "display_data"
    }
   ],
   "source": [
    "#Group three - UNIFRAC\n",
    "\n",
    "alz.dist.three = distance(alz_group_three, method = \"unifrac\", type = \"samples\")\n",
    "alz.dist.log.three = ordinate(alz_group_three, method = \"PCoA\", distance = \"unifrac\")\n",
    "alz.dist.evals.three = alz.dist.log.three$values$Eigenvalues.three\n",
    "\n",
    "p = plot_ordination(alz_group_three, alz.dist.log.three, color = \"Transgenic\", shape = \"Transgenic\") + #, label=\"X.SampleID\") + \n",
    "    ggtitle(\"Group Three - Unweighted UniFrac\") +\n",
    "    geom_point(size=3, alpha=0.8) + \n",
    "    #scale_colour_viridis(option=\"viridis\", discrete=TRUE, direction=1) +\n",
    "    scale_colour_manual(values=c(\"#004d4d\", \"#5077be\")) +\n",
    "    stat_ellipse(level=0.95, geom=\"polygon\",alpha = .2, aes(fill = Transgenic), linetype=0) +\n",
    "    #scale_fill_viridis(option=\"viridis\", discrete=TRUE, direction=1)+\n",
    "    scale_fill_manual(values=c(\"#004d4d\", \"#5077be\")) +\n",
    "    coord_fixed(sqrt(alz.dist.evals[2] / alz.dist.evals[1]))\n",
    "\n",
    "p = p + guides(colour = guide_legend(title = \"Transgenic_status\", ncol = 2, keywidth = 1, keyheight = 1))\n",
    "\n",
    "p = p + theme_bw() + \n",
    "        theme(panel.grid.major = element_blank(),\n",
    "              axis.title.y=element_text(margin=margin(0,20,0,0)),\n",
    "              text=element_text(size=8, color=\"black\",family=\"Arial\"),\n",
    "              panel.grid.minor = element_blank(),\n",
    "              #axis.ticks = element_blank(),\n",
    "              #legend.key.size = unit(.1, \"in\"),\n",
    "              #legend.spacing.x = unit(.01,\"in\"),\n",
    "              legend.position = \"bottom\")\n",
    "\n",
    "p$layers <- p$layers[-1]\n",
    "\n",
    "p\n",
    "\n",
    "png('/home/holutz/projects/Alzheimers/Update_for_reviewers/bdiv_plots/g3.unif.pcoa.png', width=6, height=5, units='in', res=300)\n",
    "plot(p)\n",
    "dev.off()"
   ]
  },
  {
   "cell_type": "code",
   "execution_count": 68,
   "metadata": {},
   "outputs": [
    {
     "name": "stderr",
     "output_type": "stream",
     "text": [
      "Warning message in UniFrac(physeq, ...):\n",
      "“Randomly assigning root as -- TACGTATGGGGCAAGCGTTATCCGGATTTACTGGGTGTAAAGGGAGCGCAGGCGGCCTGCCAAGTCTGGTGTGAAAACCCGGGGCCCAACCCCGGGCCTGCATTGGAAACTGGCGGGCTGGAGTGTCGGAGGGGCAGGCGGAATTCCTAG -- in the phylogenetic tree in the data you provided.”\n",
      "Warning message in UniFrac(physeq, ...):\n",
      "“Randomly assigning root as -- TACGTAGGGGGCGAGCGTTATCCGGATTCACTGGGTGTAAAGGGAGCGTAGACGGCCATGCAAGCCAGGGGTGAAAGCCCGGGGCCCAACCCCGGGACTGCCCTTGGAACTGTGCGGCTAGAGTGCGGGAGGGGCAGGCGGAATTCCTGG -- in the phylogenetic tree in the data you provided.”\n"
     ]
    },
    {
     "data": {
      "text/html": [
       "<strong>png:</strong> 2"
      ],
      "text/latex": [
       "\\textbf{png:} 2"
      ],
      "text/markdown": [
       "**png:** 2"
      ],
      "text/plain": [
       "png \n",
       "  2 "
      ]
     },
     "metadata": {},
     "output_type": "display_data"
    },
    {
     "data": {
      "image/png": "[encoded data removed]",
      "text/plain": [
       "plot without title"
      ]
     },
     "metadata": {
      "image/png": {
       "height": 420,
       "width": 420
      },
      "text/plain": {
       "height": 420,
       "width": 420
      }
     },
     "output_type": "display_data"
    }
   ],
   "source": [
    "#Group four - UNIFRAC\n",
    "\n",
    "alz.dist.four = distance(alz_group_four, method = \"unifrac\", type = \"samples\")\n",
    "alz.dist.log.four = ordinate(alz_group_four, method = \"PCoA\", distance = \"unifrac\")\n",
    "alz.dist.evals.four = alz.dist.log.four$values$Eigenvalues.four\n",
    "\n",
    "p = plot_ordination(alz_group_four, alz.dist.log.four, color = \"Transgenic\", shape = \"Transgenic\") + #, label=\"X.SampleID\") + \n",
    "    ggtitle(\"Group Four - Unweighted UniFrac\") +\n",
    "    geom_point(size=3, alpha=0.8) + \n",
    "    #scale_colour_viridis(option=\"viridis\", discrete=TRUE, direction=1) +\n",
    "    scale_colour_manual(values=c(\"#004d4d\", \"#5077be\")) +\n",
    "    stat_ellipse(level=0.95, geom=\"polygon\",alpha = .2, aes(fill = Transgenic), linetype=0) +\n",
    "    #scale_fill_viridis(option=\"viridis\", discrete=TRUE, direction=1)+\n",
    "    scale_fill_manual(values=c(\"#004d4d\", \"#5077be\")) +    coord_fixed(sqrt(alz.dist.evals[2] / alz.dist.evals[1]))\n",
    "\n",
    "p = p + guides(colour = guide_legend(title = \"Transgenic_status\", ncol = 2, keywidth = 1, keyheight = 1))\n",
    "\n",
    "p = p + theme_bw() + \n",
    "        theme(panel.grid.major = element_blank(),\n",
    "              axis.title.y=element_text(margin=margin(0,20,0,0)),\n",
    "              text=element_text(size=8, color=\"black\",family=\"Arial\"),\n",
    "              panel.grid.minor = element_blank(),\n",
    "              #axis.ticks = element_blank(),\n",
    "              #legend.key.size = unit(.1, \"in\"),\n",
    "              #legend.spacing.x = unit(.01,\"in\"),\n",
    "              legend.position = \"bottom\")\n",
    "\n",
    "p$layers <- p$layers[-1]\n",
    "\n",
    "p\n",
    "\n",
    "png('/home/holutz/projects/Alzheimers/Update_for_reviewers/bdiv_plots/g4.unif.pcoa.png', width=6, height=5, units='in', res=300)\n",
    "plot(p)\n",
    "dev.off()"
   ]
  },
  {
   "cell_type": "code",
   "execution_count": 69,
   "metadata": {},
   "outputs": [
    {
     "name": "stderr",
     "output_type": "stream",
     "text": [
      "Warning message in UniFrac(physeq, weighted = TRUE, ...):\n",
      "“Randomly assigning root as -- TACGTAGGGGGCGAGCGTTATCCGGATTCATTGGGCGTAAAGCGCGCGTAGGCGGTCATGTAAGCGGGACCTCTAATCTTGGGGCTCAACCTCAAGCCGGGTTCCGAACTACATGACTCGAGTGTGGTAGGGGAGATCGGAATTCCCGGT -- in the phylogenetic tree in the data you provided.”\n",
      "Warning message in UniFrac(physeq, weighted = TRUE, ...):\n",
      "“Randomly assigning root as -- TACGTAGGTGGCAAGCGTTGTCCGGATTTACTGGGTGTAAAGGGCGTGTAGCCGGGTTGACAAGTCAGATGTGAAATCCTGCGGCTTAACCGCAGAACTGCATTTGAAACTGTTGATCTTGAGTACTGGAGAGGCAGACGGAATTCCTAG -- in the phylogenetic tree in the data you provided.”\n"
     ]
    },
    {
     "data": {
      "text/html": [
       "<strong>png:</strong> 2"
      ],
      "text/latex": [
       "\\textbf{png:} 2"
      ],
      "text/markdown": [
       "**png:** 2"
      ],
      "text/plain": [
       "png \n",
       "  2 "
      ]
     },
     "metadata": {},
     "output_type": "display_data"
    },
    {
     "data": {
      "image/png": "[encoded data removed]",
      "text/plain": [
       "plot without title"
      ]
     },
     "metadata": {
      "image/png": {
       "height": 420,
       "width": 420
      },
      "text/plain": {
       "height": 420,
       "width": 420
      }
     },
     "output_type": "display_data"
    }
   ],
   "source": [
    "#Group ONE - WUNIFRAC\n",
    "\n",
    "alz.dist.one = distance(alz_group_one, method = \"wunifrac\", type = \"samples\")\n",
    "alz.dist.log.one = ordinate(alz_group_one, method = \"PCoA\", distance = \"wunifrac\")\n",
    "alz.dist.evals.one = alz.dist.log.one$values$Eigenvalues.one\n",
    "\n",
    "p = plot_ordination(alz_group_one, alz.dist.log.one, color = \"Transgenic\", shape = \"Transgenic\") + #, label=\"X.SampleID\") + \n",
    "    ggtitle(\"Group One - Weighted unifrac\") +\n",
    "    geom_point(size=3, alpha=0.8) + \n",
    "    #scale_colour_viridis(option=\"viridis\", discrete=TRUE, direction=1) +\n",
    "    scale_colour_manual(values=c(\"#004d4d\", \"#5077be\")) +\n",
    "    stat_ellipse(level=0.95, geom=\"polygon\",alpha = .2, aes(fill = Transgenic), linetype=0) +\n",
    "    #scale_fill_viridis(option=\"viridis\", discrete=TRUE, direction=1)+\n",
    "    scale_fill_manual(values=c(\"#004d4d\", \"#5077be\")) +    coord_fixed(sqrt(alz.dist.evals[2] / alz.dist.evals[1]))\n",
    "\n",
    "p = p + guides(colour = guide_legend(title = \"Transgenic_status\", ncol = 2, keywidth = 1, keyheight = 1))\n",
    "\n",
    "p = p + theme_bw() + \n",
    "        theme(panel.grid.major = element_blank(),\n",
    "              axis.title.y=element_text(margin=margin(0,20,0,0)),\n",
    "              text=element_text(size=8, color=\"black\",family=\"Arial\"),\n",
    "              panel.grid.minor = element_blank(),\n",
    "              #axis.ticks = element_blank(),\n",
    "              #legend.key.size = unit(.1, \"in\"),\n",
    "              #legend.spacing.x = unit(.01,\"in\"),\n",
    "              legend.position = \"bottom\")\n",
    "\n",
    "p$layers <- p$layers[-1]\n",
    "\n",
    "p\n",
    "\n",
    "png('/home/holutz/projects/Alzheimers/Update_for_reviewers/bdiv_plots/g1.wunif.pcoa.png', width=6, height=5, units='in', res=300)\n",
    "plot(p)\n",
    "dev.off()"
   ]
  },
  {
   "cell_type": "code",
   "execution_count": 70,
   "metadata": {},
   "outputs": [
    {
     "name": "stderr",
     "output_type": "stream",
     "text": [
      "Warning message in UniFrac(physeq, weighted = TRUE, ...):\n",
      "“Randomly assigning root as -- TACGTAGGGGGCAAGCGTTATCCGGATTTACTGGGTGTAAAGGGTGCGTAGGTGGCAGGGCAAGTCAGATGTGAAAGCCCGGGGCTCAACCCCGGTACTGCATTTGAAACTGTCCAGCTGGAGTGCAGGAGAGGTAAGCGGAATTCCTAG -- in the phylogenetic tree in the data you provided.”\n",
      "Warning message in UniFrac(physeq, weighted = TRUE, ...):\n",
      "“Randomly assigning root as -- TACGTAGGGGGCAAGCGTTATCCGGATTTACTGGGTGTAAAGGGAGCGCAGACGGCTGTGCAAGTCTGGAGTGAAAGGCGGGGGCTCAACCCCCGGACTGCTCTGGAAACTGTAAAGCTGGAGTGCAGGAGAGGTAAGCGGAATTCCTAG -- in the phylogenetic tree in the data you provided.”\n"
     ]
    },
    {
     "data": {
      "text/html": [
       "<strong>png:</strong> 2"
      ],
      "text/latex": [
       "\\textbf{png:} 2"
      ],
      "text/markdown": [
       "**png:** 2"
      ],
      "text/plain": [
       "png \n",
       "  2 "
      ]
     },
     "metadata": {},
     "output_type": "display_data"
    },
    {
     "data": {
      "image/png": "[encoded data removed]",
      "text/plain": [
       "plot without title"
      ]
     },
     "metadata": {
      "image/png": {
       "height": 420,
       "width": 420
      },
      "text/plain": {
       "height": 420,
       "width": 420
      }
     },
     "output_type": "display_data"
    }
   ],
   "source": [
    "#Group two - WUNIFRAC\n",
    "\n",
    "alz.dist.two = distance(alz_group_two, method = \"wunifrac\", type = \"samples\")\n",
    "alz.dist.log.two = ordinate(alz_group_two, method = \"PCoA\", distance = \"wunifrac\")\n",
    "alz.dist.evals.two = alz.dist.log.two$values$Eigenvalues.two\n",
    "\n",
    "p = plot_ordination(alz_group_two, alz.dist.log.two, color = \"Transgenic\", shape = \"Transgenic\") + #, label=\"X.SampleID\") + \n",
    "    ggtitle(\"Group Two - Weighted UniFrac\") +\n",
    "    geom_point(size=3, alpha=0.8) + \n",
    "    #scale_colour_viridis(option=\"viridis\", discrete=TRUE, direction=1) +\n",
    "    scale_colour_manual(values=c(\"#004d4d\", \"#5077be\")) +\n",
    "    stat_ellipse(level=0.95, geom=\"polygon\",alpha = .2, aes(fill = Transgenic), linetype=0) +\n",
    "    #scale_fill_viridis(option=\"viridis\", discrete=TRUE, direction=1)+\n",
    "    scale_fill_manual(values=c(\"#004d4d\", \"#5077be\")) +    coord_fixed(sqrt(alz.dist.evals[2] / alz.dist.evals[1]))\n",
    "\n",
    "p = p + guides(colour = guide_legend(title = \"Transgenic_status\", ncol = 2, keywidth = 1, keyheight = 1))\n",
    "\n",
    "p = p + theme_bw() + \n",
    "        theme(panel.grid.major = element_blank(),\n",
    "              axis.title.y=element_text(margin=margin(0,20,0,0)),\n",
    "              text=element_text(size=8, color=\"black\",family=\"Arial\"),\n",
    "              panel.grid.minor = element_blank(),\n",
    "              #axis.ticks = element_blank(),\n",
    "              #legend.key.size = unit(.1, \"in\"),\n",
    "              #legend.spacing.x = unit(.01,\"in\"),\n",
    "              legend.position = \"bottom\")\n",
    "\n",
    "p$layers <- p$layers[-1]\n",
    "\n",
    "p\n",
    "\n",
    "png('/home/holutz/projects/Alzheimers/Update_for_reviewers/bdiv_plots/g2.wunif.pcoa.png', width=6, height=5, units='in', res=300)\n",
    "plot(p)\n",
    "dev.off()"
   ]
  },
  {
   "cell_type": "code",
   "execution_count": 71,
   "metadata": {},
   "outputs": [
    {
     "name": "stderr",
     "output_type": "stream",
     "text": [
      "Warning message in UniFrac(physeq, weighted = TRUE, ...):\n",
      "“Randomly assigning root as -- TACGGAGGATGCGAGCGTTATCCGGATTTATTGGGTTTAAAGGGTGCGTAGGCGGGCTCTTAAGTCAGCGGTAAAAATGCGGCGCTCAACGCCGTCGAGCCGTTGAAACTGGGAGCCTAGAGTGGGCGAGAAGTATGCGGAATGCGTGGT -- in the phylogenetic tree in the data you provided.”\n",
      "Warning message in UniFrac(physeq, weighted = TRUE, ...):\n",
      "“Randomly assigning root as -- TACGTAGGAGGCAAGCGTTATCCGGAATGACTGGGCGTAAAGGGTGCGTAGGTGGTTTGGCAAGTTGGTAGCGTAATCCCGGGGCTCAACCTCGGTGCTACTACCAAAACTGCTGGGCTTGAGTGCAGGAGGGGTGAATGGAATTCCTAG -- in the phylogenetic tree in the data you provided.”\n"
     ]
    },
    {
     "data": {
      "text/html": [
       "<strong>png:</strong> 2"
      ],
      "text/latex": [
       "\\textbf{png:} 2"
      ],
      "text/markdown": [
       "**png:** 2"
      ],
      "text/plain": [
       "png \n",
       "  2 "
      ]
     },
     "metadata": {},
     "output_type": "display_data"
    },
    {
     "data": {
      "image/png": "[encoded data removed]",
      "text/plain": [
       "plot without title"
      ]
     },
     "metadata": {
      "image/png": {
       "height": 420,
       "width": 420
      },
      "text/plain": {
       "height": 420,
       "width": 420
      }
     },
     "output_type": "display_data"
    }
   ],
   "source": [
    "#Group three - WUNIFRAC\n",
    "\n",
    "alz.dist.three = distance(alz_group_three, method = \"wunifrac\", type = \"samples\")\n",
    "alz.dist.log.three = ordinate(alz_group_three, method = \"PCoA\", distance = \"wunifrac\")\n",
    "alz.dist.evals.three = alz.dist.log.three$values$Eigenvalues.three\n",
    "\n",
    "p = plot_ordination(alz_group_three, alz.dist.log.three, color = \"Transgenic\", shape = \"Transgenic\") + #, label=\"X.SampleID\") + \n",
    "    ggtitle(\"Group Three - Weighted UniFrac\") +\n",
    "    geom_point(size=3, alpha=0.8) + \n",
    "    #scale_colour_viridis(option=\"viridis\", discrete=TRUE, direction=1) +\n",
    "    scale_colour_manual(values=c(\"#004d4d\", \"#5077be\")) +\n",
    "    stat_ellipse(level=0.95, geom=\"polygon\",alpha = .2, aes(fill = Transgenic), linetype=0) +\n",
    "    #scale_fill_viridis(option=\"viridis\", discrete=TRUE, direction=1)+\n",
    "    scale_fill_manual(values=c(\"#004d4d\", \"#5077be\")) +    coord_fixed(sqrt(alz.dist.evals[2] / alz.dist.evals[1]))\n",
    "\n",
    "p = p + guides(colour = guide_legend(title = \"Transgenic_status\", ncol = 2, keywidth = 1, keyheight = 1))\n",
    "\n",
    "p = p + theme_bw() + \n",
    "        theme(panel.grid.major = element_blank(),\n",
    "              axis.title.y=element_text(margin=margin(0,20,0,0)),\n",
    "              text=element_text(size=8, color=\"black\",family=\"Arial\"),\n",
    "              panel.grid.minor = element_blank(),\n",
    "              #axis.ticks = element_blank(),\n",
    "              #legend.key.size = unit(.1, \"in\"),\n",
    "              #legend.spacing.x = unit(.01,\"in\"),\n",
    "              legend.position = \"bottom\")\n",
    "\n",
    "p$layers <- p$layers[-1]\n",
    "\n",
    "p\n",
    "\n",
    "png('/home/holutz/projects/Alzheimers/Update_for_reviewers/bdiv_plots/g3.wunif.pcoa.png', width=6, height=5, units='in', res=300)\n",
    "plot(p)\n",
    "dev.off()"
   ]
  },
  {
   "cell_type": "code",
   "execution_count": 72,
   "metadata": {},
   "outputs": [
    {
     "name": "stderr",
     "output_type": "stream",
     "text": [
      "Warning message in UniFrac(physeq, weighted = TRUE, ...):\n",
      "“Randomly assigning root as -- TACGTAGGGAGCGAGCGTTGTCCGGAATTACTGGGTGTAAAGGGAGCGTAGGCGGGACGGCAAGTCAGATGTGAAAACTGAGGGCTCAACCTTCAGACTGCATTTGAAACTGCTGTTCTTGAGTGAAGTAGAGGTAAGCGGAATTCCTAG -- in the phylogenetic tree in the data you provided.”\n",
      "Warning message in UniFrac(physeq, weighted = TRUE, ...):\n",
      "“Randomly assigning root as -- TACGGAGGATGCGAGCGTTATCCGGATTTATTGGGTTTAAAGGGTGCGTAGGCGGCCTGCCAAGTCAGCGGTAAAATTGCGGGGCTCAACCCCGTACAGCCGTTGAAACTGCCGGGCTCGAGTGGGCGAGAAGTATGCGGAATGCGTGGT -- in the phylogenetic tree in the data you provided.”\n"
     ]
    },
    {
     "data": {
      "text/html": [
       "<strong>png:</strong> 2"
      ],
      "text/latex": [
       "\\textbf{png:} 2"
      ],
      "text/markdown": [
       "**png:** 2"
      ],
      "text/plain": [
       "png \n",
       "  2 "
      ]
     },
     "metadata": {},
     "output_type": "display_data"
    },
    {
     "data": {
      "image/png": "[encoded data removed]",
      "text/plain": [
       "plot without title"
      ]
     },
     "metadata": {
      "image/png": {
       "height": 420,
       "width": 420
      },
      "text/plain": {
       "height": 420,
       "width": 420
      }
     },
     "output_type": "display_data"
    }
   ],
   "source": [
    "#Group four - WUNIFRAC\n",
    "\n",
    "alz.dist.four = distance(alz_group_four, method = \"wunifrac\", type = \"samples\")\n",
    "alz.dist.log.four = ordinate(alz_group_four, method = \"PCoA\", distance = \"wunifrac\")\n",
    "alz.dist.evals.four = alz.dist.log.four$values$Eigenvalues.four\n",
    "\n",
    "p = plot_ordination(alz_group_four, alz.dist.log.four, color = \"Transgenic\", shape = \"Transgenic\") + #, label=\"X.SampleID\") + \n",
    "    ggtitle(\"Group Four - Weighted UniFrac\") +\n",
    "    geom_point(size=3, alpha=0.8) + \n",
    "    #scale_colour_viridis(option=\"viridis\", discrete=TRUE, direction=1) +\n",
    "    scale_colour_manual(values=c(\"#004d4d\", \"#5077be\")) +\n",
    "    stat_ellipse(level=0.95, geom=\"polygon\",alpha = .2, aes(fill = Transgenic), linetype=0) +\n",
    "    #scale_fill_viridis(option=\"viridis\", discrete=TRUE, direction=1)+\n",
    "    scale_fill_manual(values=c(\"#004d4d\", \"#5077be\")) +    coord_fixed(sqrt(alz.dist.evals[2] / alz.dist.evals[1]))\n",
    "\n",
    "p = p + guides(colour = guide_legend(title = \"Transgenic_status\", ncol = 2, keywidth = 1, keyheight = 1))\n",
    "\n",
    "p = p + theme_bw() + \n",
    "        theme(panel.grid.major = element_blank(),\n",
    "              axis.title.y=element_text(margin=margin(0,20,0,0)),\n",
    "              text=element_text(size=8, color=\"black\",family=\"Arial\"),\n",
    "              panel.grid.minor = element_blank(),\n",
    "              #axis.ticks = element_blank(),\n",
    "              #legend.key.size = unit(.1, \"in\"),\n",
    "              #legend.spacing.x = unit(.01,\"in\"),\n",
    "              legend.position = \"bottom\")\n",
    "\n",
    "p$layers <- p$layers[-1]\n",
    "\n",
    "p\n",
    "\n",
    "png('/home/holutz/projects/Alzheimers/Update_for_reviewers/bdiv_plots/g4.wunif.pcoa.png', width=6, height=5, units='in', res=300)\n",
    "plot(p)\n",
    "dev.off()"
   ]
  }
 ],
 "metadata": {
  "kernelspec": {
   "display_name": "R_3.6.0",
   "language": "R",
   "name": "ir360"
  },
  "language_info": {
   "codemirror_mode": "r",
   "file_extension": ".r",
   "mimetype": "text/x-r-source",
   "name": "R",
   "pygments_lexer": "r",
   "version": "3.6.1"
  }
 },
 "nbformat": 4,
 "nbformat_minor": 2
}
