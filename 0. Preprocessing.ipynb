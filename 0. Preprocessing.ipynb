{
 "cells": [
  {
   "cell_type": "code",
   "execution_count": 2,
   "metadata": {},
   "outputs": [],
   "source": [
    "library(phyloseq)\n",
    "library(ggplot2)\n",
    "library(vegan)\n",
    "library(readr)\n",
    "library(data.table)\n",
    "library(dplyr)\n",
    "library(stats)\n",
    "library(ggpubr)\n",
    "library(dunn.test)"
   ]
  },
  {
   "cell_type": "code",
   "execution_count": 79,
   "metadata": {},
   "outputs": [
    {
     "data": {
      "text/plain": [
       "phyloseq-class experiment-level object\n",
       "otu_table()   OTU Table:         [ 729 taxa and 97 samples ]\n",
       "sample_data() Sample Data:       [ 97 samples by 12 sample variables ]\n",
       "tax_table()   Taxonomy Table:    [ 729 taxa by 7 taxonomic ranks ]\n",
       "phy_tree()    Phylogenetic Tree: [ 729 tips and 723 internal nodes ]"
      ]
     },
     "metadata": {},
     "output_type": "display_data"
    }
   ],
   "source": [
    "setwd(\"/gpfs/data/gilbert-lab/Lutz/Alzheimers/Update_Oct2019/phyloseq/\")\n",
    "\n",
    "otu <- read.csv(file=\"/gpfs/data/gilbert-lab/Lutz/Alzheimers/Update_Oct2019/phyloseq/final/OTU_X.csv\",header=TRUE)\n",
    "#head(otu)\n",
    "tax <- read.table(file=\"taxonomy.tsv\",sep='\\t',header=TRUE)\n",
    "#head(tax)\n",
    "merged_file <- merge(otu,tax,by.x=c(\"OTUID\"),by.y=c(\"OTUID\"))\n",
    "#head(merged_file)\n",
    "write.table(merged_file, file=\"combined_otu_tax.txt\",sep='\\t',col.names=TRUE,row.names=FALSE)\n",
    "\n",
    "#Export and separate into OTU and taxonomy tables (see qiime2_to_phyloseq.pdf)\n",
    "\n",
    "otu_table=read.csv(\"OTU_table.csv\",sep=\",\",row.names=1)\n",
    "otu_table = as.matrix(otu_table)\n",
    "taxonomy= read.csv(\"tax_table.csv\",sep=\",\",row.names=1)\n",
    "taxonomy=as.matrix(taxonomy)\n",
    "\n",
    "OTU=otu_table(otu_table,taxa_are_rows=TRUE)\n",
    "TAX=tax_table(taxonomy)\n",
    "\n",
    "OTU=otu_table(otu_table,taxa_are_rows=TRUE)\n",
    "TAX=tax_table(taxonomy)\n",
    "\n",
    "META=import_qiime_sample_data(\"/gpfs/data/gilbert-lab/Lutz/Alzheimers/Update_Oct2019/phyloseq/final/META_X.txt\")\n",
    "tree=read_tree(\"rep_phylo_tree.nwk\")\n",
    "\n",
    "ps = merge_phyloseq(OTU,TAX,META,tree)\n",
    "ps\n"
   ]
  },
  {
   "cell_type": "code",
   "execution_count": 80,
   "metadata": {},
   "outputs": [],
   "source": [
    "alz_nt <- prune_samples(sample_sums(ps) > 1000, ps)\n",
    "alz_t <- merge_phyloseq(OTU,TAX,META,tree) %>%\n",
    "    prune_samples((sample_sums(.) > 1000), .) %>%\n",
    "    filter_taxa(function(x) sum(x > 3) > (0.001*length(x)), TRUE) %>%\n",
    "    transform_sample_counts(function(x) x / sum(x))\n",
    "\n",
    "saveRDS(alz_nt, \"/gpfs/data/gilbert-lab/Lutz/Alzheimers/Update_Oct2019/PS_for_analysis/alz_nt.rds\")\n",
    "saveRDS(alz_t, \"/gpfs/data/gilbert-lab/Lutz/Alzheimers/Update_Oct2019/PS_for_analysis/alz_t.rds\")"
   ]
  },
  {
   "cell_type": "code",
   "execution_count": 7,
   "metadata": {},
   "outputs": [
    {
     "name": "stderr",
     "output_type": "stream",
     "text": [
      "Warning message in strsplit(msg, \"\\n\"):\n",
      "“input string 1 is invalid in this locale”"
     ]
    }
   ],
   "source": [
    "#setwd(\"/gpfs/data/gilbert-lab/Lutz/Alzheimers/ps_files/\")\n",
    "\n",
    "#biom <- import_biom(\"abx_deblur.biom\")\n",
    "#map <- import_qiime_sample_data(\"ABX_mapfile.txt\")\n",
    "#tree <- read_tree(\"rep_phylo.tre\")\n",
    "#alz_nt <- merge_phyloseq(biom,tree,map)\n",
    "#alz_nt <- prune_samples(sample_sums(alz_nt) > 1000, alz_nt)\n",
    "#alz <- merge_phyloseq(biom,tree,map) %>%\n",
    "#    prune_samples((sample_sums(.) > 1000), .) %>%\n",
    "#    filter_taxa(function(x) sum(x > 3) > (0.001*length(x)), TRUE) %>%\n",
    "#    transform_sample_counts(function(x) x / sum(x))\n",
    "\n",
    "#saveRDS(alz_nt, \"/gpfs/data/gilbert-lab/Lutz/Alzheimers/RDSfiles/alz_nt.rds\")\n",
    "#saveRDS(alz, \"/gpfs/data/gilbert-lab/Lutz/Alzheimers/RDSfiles/alz.rds\")                            "
   ]
  },
  {
   "cell_type": "code",
   "execution_count": 73,
   "metadata": {},
   "outputs": [],
   "source": [
    "#alz_nt = readRDS(\"/gpfs/data/gilbert-lab/Lutz/Alzheimers/RDSfiles/alz_nt.rds\")\n",
    "#alz = readRDS(\"/gpfs/data/gilbert-lab/Lutz/Alzheimers/RDSfiles/alz.rds\")\n",
    "\n",
    "#Read in NEW DATA NOVEMBER 2019\n",
    "alz_nt = readRDS(\"/gpfs/data/gilbert-lab/Lutz/Alzheimers/Update_Oct2019/PS_for_analysis/alz_nt.rds\")\n",
    "alz_t = readRDS(\"/gpfs/data/gilbert-lab/Lutz/Alzheimers/Update_Oct2019/PS_for_analysis/alz_t.rds\")"
   ]
  },
  {
   "cell_type": "code",
   "execution_count": 81,
   "metadata": {},
   "outputs": [
    {
     "name": "stderr",
     "output_type": "stream",
     "text": [
      "`stat_bin()` using `bins = 30`. Pick better value with `binwidth`.\n"
     ]
    },
    {
     "data": {
      "image/png": "[encoded data removed]",
      "text/plain": [
       "plot without title"
      ]
     },
     "metadata": {},
     "output_type": "display_data"
    }
   ],
   "source": [
    "alz_sdt = data.table(as(sample_data(alz_nt), \"data.frame\"),\n",
    "                 TotalReads = sample_sums(alz_nt), keep.rownames = TRUE)\n",
    "setnames(alz_sdt, \"rn\", \"SampleName\")\n",
    "pSeqDepth = ggplot(alz_sdt, aes(TotalReads)) + geom_histogram() + ggtitle(\"Sequencing Depth\")\n",
    "pSeqDepth\n"
   ]
  },
  {
   "cell_type": "code",
   "execution_count": 10,
   "metadata": {
    "collapsed": true
   },
   "outputs": [
    {
     "name": "stderr",
     "output_type": "stream",
     "text": [
      "You set `rngseed` to FALSE. Make sure you've set & recorded\n",
      " the random seed of your session for reproducibility.\n",
      "See `?set.seed`\n",
      "\n",
      "...\n",
      "622OTUs were removed because they are no longer \n",
      "present in any sample after random subsampling\n",
      "\n",
      "...\n",
      "You set `rngseed` to FALSE. Make sure you've set & recorded\n",
      " the random seed of your session for reproducibility.\n",
      "See `?set.seed`\n",
      "\n",
      "...\n",
      "9 samples removedbecause they contained fewer reads than `sample.size`.\n",
      "Up to first five removed samples are: \n",
      "\n",
      "M10M36M11M34M23\t\n",
      "...\n",
      "217OTUs were removed because they are no longer \n",
      "present in any sample after random subsampling\n",
      "\n",
      "...\n",
      "You set `rngseed` to FALSE. Make sure you've set & recorded\n",
      " the random seed of your session for reproducibility.\n",
      "See `?set.seed`\n",
      "\n",
      "...\n",
      "15 samples removedbecause they contained fewer reads than `sample.size`.\n",
      "Up to first five removed samples are: \n",
      "\n",
      "M29M26M10M21M36\t\n",
      "...\n",
      "415OTUs were removed because they are no longer \n",
      "present in any sample after random subsampling\n",
      "\n",
      "...\n"
     ]
    }
   ],
   "source": [
    "#Rarefy all data to 1k\n",
    "alz_nt_1k = rarefy_even_depth(alz_nt, sample.size = 1000,\n",
    "                                  replace = FALSE, trimOTUs = TRUE, verbose = TRUE)\n",
    "alz_t_1k <- alz_nt_1k %>%\n",
    "    transform_sample_counts(function(x) x / sum(x))\n",
    "saveRDS(alz_nt_1k, \"/gpfs/data/gilbert-lab/Lutz/Alzheimers/RDSfiles/alz_nt_1k.rds\")                                                   \n",
    "saveRDS(alz_t_1k, \"/gpfs/data/gilbert-lab/Lutz/Alzheimers/RDSfiles/alz_t_1k.rds\")\n",
    "\n",
    "#Rarefy all data to 5k\n",
    "alz_nt_5k = rarefy_even_depth(alz_nt, sample.size = 5000,\n",
    "                                 replace = FALSE, trimOTUs = TRUE, verbose = TRUE)\n",
    "alz_t_5k <- alz_nt_5k %>%\n",
    "    transform_sample_counts(function(x) x / sum(x))\n",
    "saveRDS(alz_nt_5k, \"/gpfs/data/gilbert-lab/Lutz/Alzheimers/RDSfiles/alz_nt_5k.rds\")                                                   \n",
    "saveRDS(alz_t_5k, \"/gpfs/data/gilbert-lab/Lutz/Alzheimers/RDSfiles/alz_t_5k.rds\")\n",
    "                            \n",
    "#Rarefy all data to 10k\n",
    "alz_nt_10k = rarefy_even_depth(alz_nt, sample.size = 10000,\n",
    "                                  replace = FALSE, trimOTUs = TRUE, verbose = TRUE)\n",
    "alz_t_10k <- alz_nt_10k %>%\n",
    "    transform_sample_counts(function(x) x / sum(x))\n",
    "saveRDS(alz_nt_10k, \"/gpfs/data/gilbert-lab/Lutz/Alzheimers/RDSfiles/alz_nt_10k.rds\")                                                   \n",
    "saveRDS(alz_t_10k, \"/gpfs/data/gilbert-lab/Lutz/Alzheimers/RDSfiles/alz_t_10k.rds\")\n",
    "                            "
   ]
  },
  {
   "cell_type": "code",
   "execution_count": 11,
   "metadata": {},
   "outputs": [
    {
     "data": {
      "text/plain": [
       "phyloseq-class experiment-level object\n",
       "otu_table()   OTU Table:         [ 3441 taxa and 49 samples ]\n",
       "sample_data() Sample Data:       [ 49 samples by 12 sample variables ]\n",
       "tax_table()   Taxonomy Table:    [ 3441 taxa by 7 taxonomic ranks ]\n",
       "phy_tree()    Phylogenetic Tree: [ 3441 tips and 3439 internal nodes ]"
      ]
     },
     "metadata": {},
     "output_type": "display_data"
    },
    {
     "data": {
      "text/plain": [
       "phyloseq-class experiment-level object\n",
       "otu_table()   OTU Table:         [ 3430 taxa and 49 samples ]\n",
       "sample_data() Sample Data:       [ 49 samples by 12 sample variables ]\n",
       "tax_table()   Taxonomy Table:    [ 3430 taxa by 7 taxonomic ranks ]\n",
       "phy_tree()    Phylogenetic Tree: [ 3430 tips and 3428 internal nodes ]"
      ]
     },
     "metadata": {},
     "output_type": "display_data"
    },
    {
     "data": {
      "text/plain": [
       "phyloseq-class experiment-level object\n",
       "otu_table()   OTU Table:         [ 2819 taxa and 49 samples ]\n",
       "sample_data() Sample Data:       [ 49 samples by 12 sample variables ]\n",
       "tax_table()   Taxonomy Table:    [ 2819 taxa by 7 taxonomic ranks ]\n",
       "phy_tree()    Phylogenetic Tree: [ 2819 tips and 2817 internal nodes ]"
      ]
     },
     "metadata": {},
     "output_type": "display_data"
    },
    {
     "data": {
      "text/plain": [
       "phyloseq-class experiment-level object\n",
       "otu_table()   OTU Table:         [ 3224 taxa and 40 samples ]\n",
       "sample_data() Sample Data:       [ 40 samples by 12 sample variables ]\n",
       "tax_table()   Taxonomy Table:    [ 3224 taxa by 7 taxonomic ranks ]\n",
       "phy_tree()    Phylogenetic Tree: [ 3224 tips and 3222 internal nodes ]"
      ]
     },
     "metadata": {},
     "output_type": "display_data"
    },
    {
     "data": {
      "text/plain": [
       "phyloseq-class experiment-level object\n",
       "otu_table()   OTU Table:         [ 3026 taxa and 34 samples ]\n",
       "sample_data() Sample Data:       [ 34 samples by 12 sample variables ]\n",
       "tax_table()   Taxonomy Table:    [ 3026 taxa by 7 taxonomic ranks ]\n",
       "phy_tree()    Phylogenetic Tree: [ 3026 tips and 3024 internal nodes ]"
      ]
     },
     "metadata": {},
     "output_type": "display_data"
    }
   ],
   "source": [
    "alz_nt\n",
    "alz\n",
    "alz_nt_1k\n",
    "alz_nt_5k\n",
    "alz_nt_10k"
   ]
  },
  {
   "cell_type": "code",
   "execution_count": 86,
   "metadata": {},
   "outputs": [
    {
     "data": {
      "text/html": [
       "<table>\n",
       "<thead><tr><th></th><th scope=col>SampleID</th><th scope=col>BarcodeSequence</th><th scope=col>LinkerPrimerSequence</th><th scope=col>PrimerPlate</th><th scope=col>PrimerWell</th><th scope=col>Tube</th><th scope=col>MouseTag</th><th scope=col>SampleType</th><th scope=col>Sex</th><th scope=col>Treatment</th><th scope=col>FecalMassGm</th><th scope=col>Description</th></tr></thead>\n",
       "<tbody>\n",
       "\t<tr><th scope=row>X17</th><td>X17                  </td><td>GCATATGCACTG         </td><td>GTGTGYCAGCMGCCGCGGTAA</td><td>D5                   </td><td>ABX_cecal_plate1     </td><td>3046                 </td><td>M                    </td><td>Cecal                </td><td>Abx_FMT              </td><td>M_Abx_FMT            </td><td>0.0493               </td><td>M17                  </td></tr>\n",
       "\t<tr><th scope=row>X5.F.7.Abx</th><td>X5.F.7.Abx           </td><td>AATAACTAGGGT         </td><td>GTGTGYCAGCMGCCGCGGTAA</td><td>D11                  </td><td>ABX_fecal_plate2     </td><td>unknown              </td><td>F                    </td><td>Fecal                </td><td>Abx                  </td><td>F_Abx                </td><td>Unknown              </td><td>5.F.7.Abx            </td></tr>\n",
       "\t<tr><th scope=row>X2.M.1.Abx</th><td>X2.M.1.Abx           </td><td>ACTACTGAGGAT         </td><td>GTGTGYCAGCMGCCGCGGTAA</td><td>A11                  </td><td>ABX_fecal_plate2     </td><td>unknown              </td><td>M                    </td><td>Fecal                </td><td>Abx                  </td><td>M_Abx                </td><td>Unknown              </td><td>2.M.1.Abx            </td></tr>\n",
       "\t<tr><th scope=row>X9</th><td>X9                   </td><td>CATTTCGCACTT         </td><td>GTGTGYCAGCMGCCGCGGTAA</td><td>C9                   </td><td>ABX_cecal_plate1     </td><td>3190                 </td><td>M                    </td><td>Cecal                </td><td>Control              </td><td>M_Control            </td><td>0.0299               </td><td>M9                   </td></tr>\n",
       "\t<tr><th scope=row>X4.F.7.ctr</th><td>X4.F.7.ctr           </td><td>ACCTTACACCTT         </td><td>GTGTGYCAGCMGCCGCGGTAA</td><td>D2                   </td><td>ABX_fecal_plate2     </td><td>unknown              </td><td>F                    </td><td>Fecal                </td><td>Control              </td><td>F_Control            </td><td>Unknown              </td><td>4.F.7.ctr            </td></tr>\n",
       "\t<tr><th scope=row>X4.F.1.Ctr</th><td>X4.F.1.Ctr           </td><td>AAGAACTCATGA         </td><td>GTGTGYCAGCMGCCGCGGTAA</td><td>C6                   </td><td>ABX_fecal_plate2     </td><td>unknown              </td><td>F                    </td><td>Fecal                </td><td>Control              </td><td>F_Control            </td><td>Unknown              </td><td>4.F.1.Ctr            </td></tr>\n",
       "</tbody>\n",
       "</table>\n"
      ],
      "text/latex": [
       "\\begin{tabular}{r|llllllllllll}\n",
       "  & SampleID & BarcodeSequence & LinkerPrimerSequence & PrimerPlate & PrimerWell & Tube & MouseTag & SampleType & Sex & Treatment & FecalMassGm & Description\\\\\n",
       "\\hline\n",
       "\tX17 & X17                   & GCATATGCACTG          & GTGTGYCAGCMGCCGCGGTAA & D5                    & ABX\\_cecal\\_plate1  & 3046                  & M                     & Cecal                 & Abx\\_FMT             & M\\_Abx\\_FMT         & 0.0493                & M17                  \\\\\n",
       "\tX5.F.7.Abx & X5.F.7.Abx            & AATAACTAGGGT          & GTGTGYCAGCMGCCGCGGTAA & D11                   & ABX\\_fecal\\_plate2  & unknown               & F                     & Fecal                 & Abx                   & F\\_Abx               & Unknown               & 5.F.7.Abx            \\\\\n",
       "\tX2.M.1.Abx & X2.M.1.Abx            & ACTACTGAGGAT          & GTGTGYCAGCMGCCGCGGTAA & A11                   & ABX\\_fecal\\_plate2  & unknown               & M                     & Fecal                 & Abx                   & M\\_Abx               & Unknown               & 2.M.1.Abx            \\\\\n",
       "\tX9 & X9                    & CATTTCGCACTT          & GTGTGYCAGCMGCCGCGGTAA & C9                    & ABX\\_cecal\\_plate1  & 3190                  & M                     & Cecal                 & Control               & M\\_Control           & 0.0299                & M9                   \\\\\n",
       "\tX4.F.7.ctr & X4.F.7.ctr            & ACCTTACACCTT          & GTGTGYCAGCMGCCGCGGTAA & D2                    & ABX\\_fecal\\_plate2  & unknown               & F                     & Fecal                 & Control               & F\\_Control           & Unknown               & 4.F.7.ctr            \\\\\n",
       "\tX4.F.1.Ctr & X4.F.1.Ctr            & AAGAACTCATGA          & GTGTGYCAGCMGCCGCGGTAA & C6                    & ABX\\_fecal\\_plate2  & unknown               & F                     & Fecal                 & Control               & F\\_Control           & Unknown               & 4.F.1.Ctr            \\\\\n",
       "\\end{tabular}\n"
      ],
      "text/markdown": [
       "\n",
       "| <!--/--> | SampleID | BarcodeSequence | LinkerPrimerSequence | PrimerPlate | PrimerWell | Tube | MouseTag | SampleType | Sex | Treatment | FecalMassGm | Description |\n",
       "|---|---|---|---|---|---|---|---|---|---|---|---|---|\n",
       "| X17 | X17                   | GCATATGCACTG          | GTGTGYCAGCMGCCGCGGTAA | D5                    | ABX_cecal_plate1      | 3046                  | M                     | Cecal                 | Abx_FMT               | M_Abx_FMT             | 0.0493                | M17                   |\n",
       "| X5.F.7.Abx | X5.F.7.Abx            | AATAACTAGGGT          | GTGTGYCAGCMGCCGCGGTAA | D11                   | ABX_fecal_plate2      | unknown               | F                     | Fecal                 | Abx                   | F_Abx                 | Unknown               | 5.F.7.Abx             |\n",
       "| X2.M.1.Abx | X2.M.1.Abx            | ACTACTGAGGAT          | GTGTGYCAGCMGCCGCGGTAA | A11                   | ABX_fecal_plate2      | unknown               | M                     | Fecal                 | Abx                   | M_Abx                 | Unknown               | 2.M.1.Abx             |\n",
       "| X9 | X9                    | CATTTCGCACTT          | GTGTGYCAGCMGCCGCGGTAA | C9                    | ABX_cecal_plate1      | 3190                  | M                     | Cecal                 | Control               | M_Control             | 0.0299                | M9                    |\n",
       "| X4.F.7.ctr | X4.F.7.ctr            | ACCTTACACCTT          | GTGTGYCAGCMGCCGCGGTAA | D2                    | ABX_fecal_plate2      | unknown               | F                     | Fecal                 | Control               | F_Control             | Unknown               | 4.F.7.ctr             |\n",
       "| X4.F.1.Ctr | X4.F.1.Ctr            | AAGAACTCATGA          | GTGTGYCAGCMGCCGCGGTAA | C6                    | ABX_fecal_plate2      | unknown               | F                     | Fecal                 | Control               | F_Control             | Unknown               | 4.F.1.Ctr             |\n",
       "\n"
      ],
      "text/plain": [
       "           SampleID   BarcodeSequence LinkerPrimerSequence  PrimerPlate\n",
       "X17        X17        GCATATGCACTG    GTGTGYCAGCMGCCGCGGTAA D5         \n",
       "X5.F.7.Abx X5.F.7.Abx AATAACTAGGGT    GTGTGYCAGCMGCCGCGGTAA D11        \n",
       "X2.M.1.Abx X2.M.1.Abx ACTACTGAGGAT    GTGTGYCAGCMGCCGCGGTAA A11        \n",
       "X9         X9         CATTTCGCACTT    GTGTGYCAGCMGCCGCGGTAA C9         \n",
       "X4.F.7.ctr X4.F.7.ctr ACCTTACACCTT    GTGTGYCAGCMGCCGCGGTAA D2         \n",
       "X4.F.1.Ctr X4.F.1.Ctr AAGAACTCATGA    GTGTGYCAGCMGCCGCGGTAA C6         \n",
       "           PrimerWell       Tube    MouseTag SampleType Sex     Treatment\n",
       "X17        ABX_cecal_plate1 3046    M        Cecal      Abx_FMT M_Abx_FMT\n",
       "X5.F.7.Abx ABX_fecal_plate2 unknown F        Fecal      Abx     F_Abx    \n",
       "X2.M.1.Abx ABX_fecal_plate2 unknown M        Fecal      Abx     M_Abx    \n",
       "X9         ABX_cecal_plate1 3190    M        Cecal      Control M_Control\n",
       "X4.F.7.ctr ABX_fecal_plate2 unknown F        Fecal      Control F_Control\n",
       "X4.F.1.Ctr ABX_fecal_plate2 unknown F        Fecal      Control F_Control\n",
       "           FecalMassGm Description\n",
       "X17        0.0493      M17        \n",
       "X5.F.7.Abx Unknown     5.F.7.Abx  \n",
       "X2.M.1.Abx Unknown     2.M.1.Abx  \n",
       "X9         0.0299      M9         \n",
       "X4.F.7.ctr Unknown     4.F.7.ctr  \n",
       "X4.F.1.Ctr Unknown     4.F.1.Ctr  "
      ]
     },
     "metadata": {},
     "output_type": "display_data"
    }
   ],
   "source": [
    "sample_tab = data.frame(sample_data(alz_nt))\n",
    "names(sample_tab) <- c(\"SampleID\", \"BarcodeSequence\", \"LinkerPrimerSequence\", \"PrimerPlate\", \"PrimerWell\", \"Tube\", \"MouseTag\", \"SampleType\", \"Sex\", \"Treatment\", \"FecalMassGm\",\"Description\")\n",
    "head(sample_tab)"
   ]
  },
  {
   "cell_type": "code",
   "execution_count": 87,
   "metadata": {},
   "outputs": [],
   "source": [
    "alz_nt_fecal = subset_samples(alz_nt, SampleType==\"Fecal\")\n",
    "alz_nt_cecal = subset_samples(alz_nt, SampleType==\"Cecal\")\n",
    "\n",
    "alz_nt_fec_M = subset_samples(alz_nt_fecal, Sex==\"M\")\n",
    "alz_nt_fec_F = subset_samples(alz_nt_fecal, Sex==\"F\")\n",
    "alz_nt_cec_M = subset_samples(alz_nt_cecal, Sex==\"M\")\n",
    "alz_nt_cec_F = subset_samples(alz_nt_cecal, Sex==\"F\")"
   ]
  },
  {
   "cell_type": "code",
   "execution_count": 88,
   "metadata": {},
   "outputs": [
    {
     "data": {
      "text/html": [
       "<table>\n",
       "<thead><tr><th scope=col>Treatment</th><th scope=col>median</th><th scope=col>mean</th><th scope=col>sd</th><th scope=col>sem</th></tr></thead>\n",
       "<tbody>\n",
       "\t<tr><td>M_Abx    </td><td>163      </td><td>166.6000 </td><td>21.44865 </td><td> 6.782658</td></tr>\n",
       "\t<tr><td>M_Abx_FMT</td><td>185      </td><td>181.1111 </td><td>26.01175 </td><td> 8.670583</td></tr>\n",
       "\t<tr><td>M_Control</td><td>203      </td><td>196.9000 </td><td>47.94082 </td><td>15.160218</td></tr>\n",
       "</tbody>\n",
       "</table>\n"
      ],
      "text/latex": [
       "\\begin{tabular}{r|lllll}\n",
       " Treatment & median & mean & sd & sem\\\\\n",
       "\\hline\n",
       "\t M\\_Abx     & 163         & 166.6000    & 21.44865    &  6.782658  \\\\\n",
       "\t M\\_Abx\\_FMT & 185           & 181.1111      & 26.01175      &  8.670583    \\\\\n",
       "\t M\\_Control & 203         & 196.9000    & 47.94082    & 15.160218  \\\\\n",
       "\\end{tabular}\n"
      ],
      "text/markdown": [
       "\n",
       "| Treatment | median | mean | sd | sem |\n",
       "|---|---|---|---|---|\n",
       "| M_Abx     | 163       | 166.6000  | 21.44865  |  6.782658 |\n",
       "| M_Abx_FMT | 185       | 181.1111  | 26.01175  |  8.670583 |\n",
       "| M_Control | 203       | 196.9000  | 47.94082  | 15.160218 |\n",
       "\n"
      ],
      "text/plain": [
       "  Treatment median mean     sd       sem      \n",
       "1 M_Abx     163    166.6000 21.44865  6.782658\n",
       "2 M_Abx_FMT 185    181.1111 26.01175  8.670583\n",
       "3 M_Control 203    196.9000 47.94082 15.160218"
      ]
     },
     "metadata": {},
     "output_type": "display_data"
    },
    {
     "data": {
      "text/plain": [
       "\n",
       "\tKruskal-Wallis rank sum test\n",
       "\n",
       "data:  Observed by Treatment\n",
       "Kruskal-Wallis chi-squared = 6.7183, df = 2, p-value = 0.03476\n"
      ]
     },
     "metadata": {},
     "output_type": "display_data"
    },
    {
     "name": "stdout",
     "output_type": "stream",
     "text": [
      "  Kruskal-Wallis rank sum test\n",
      "\n",
      "data: x and group\n",
      "Kruskal-Wallis chi-squared = 6.7183, df = 2, p-value = 0.03\n",
      "\n",
      "\n",
      "                           Comparison of x by group                            \n",
      "                                 (Bonferroni)                                  \n",
      "Col Mean-|\n",
      "Row Mean |      M_Abx   M_Abx_FM\n",
      "---------+----------------------\n",
      "M_Abx_FM |  -1.363169\n",
      "         |     0.2592\n",
      "         |\n",
      "M_Contro |  -2.589289  -1.157059\n",
      "         |    0.0144*     0.3709\n",
      "\n",
      "alpha = 0.05\n",
      "Reject Ho if p <= alpha/2\n"
     ]
    },
    {
     "data": {
      "text/html": [
       "<dl>\n",
       "\t<dt>$chi2</dt>\n",
       "\t\t<dd>6.71833388175936</dd>\n",
       "\t<dt>$Z</dt>\n",
       "\t\t<dd><ol class=list-inline>\n",
       "\t<li>-1.36316947170347</li>\n",
       "\t<li>-2.58928900889213</li>\n",
       "\t<li>-1.157059384741</li>\n",
       "</ol>\n",
       "</dd>\n",
       "\t<dt>$P</dt>\n",
       "\t\t<dd><ol class=list-inline>\n",
       "\t<li>0.0864145530663608</li>\n",
       "\t<li>0.00480871698658505</li>\n",
       "\t<li>0.123624049468183</li>\n",
       "</ol>\n",
       "</dd>\n",
       "\t<dt>$P.adjusted</dt>\n",
       "\t\t<dd><ol class=list-inline>\n",
       "\t<li>0.259243659199082</li>\n",
       "\t<li>0.0144261509597551</li>\n",
       "\t<li>0.37087214840455</li>\n",
       "</ol>\n",
       "</dd>\n",
       "\t<dt>$comparisons</dt>\n",
       "\t\t<dd><ol class=list-inline>\n",
       "\t<li>'M_Abx - M_Abx_FMT'</li>\n",
       "\t<li>'M_Abx - M_Control'</li>\n",
       "\t<li>'M_Abx_FMT - M_Control'</li>\n",
       "</ol>\n",
       "</dd>\n",
       "</dl>\n"
      ],
      "text/latex": [
       "\\begin{description}\n",
       "\\item[\\$chi2] 6.71833388175936\n",
       "\\item[\\$Z] \\begin{enumerate*}\n",
       "\\item -1.36316947170347\n",
       "\\item -2.58928900889213\n",
       "\\item -1.157059384741\n",
       "\\end{enumerate*}\n",
       "\n",
       "\\item[\\$P] \\begin{enumerate*}\n",
       "\\item 0.0864145530663608\n",
       "\\item 0.00480871698658505\n",
       "\\item 0.123624049468183\n",
       "\\end{enumerate*}\n",
       "\n",
       "\\item[\\$P.adjusted] \\begin{enumerate*}\n",
       "\\item 0.259243659199082\n",
       "\\item 0.0144261509597551\n",
       "\\item 0.37087214840455\n",
       "\\end{enumerate*}\n",
       "\n",
       "\\item[\\$comparisons] \\begin{enumerate*}\n",
       "\\item 'M\\_Abx - M\\_Abx\\_FMT'\n",
       "\\item 'M\\_Abx - M\\_Control'\n",
       "\\item 'M\\_Abx\\_FMT - M\\_Control'\n",
       "\\end{enumerate*}\n",
       "\n",
       "\\end{description}\n"
      ],
      "text/markdown": [
       "$chi2\n",
       ":   6.71833388175936\n",
       "$Z\n",
       ":   1. -1.36316947170347\n",
       "2. -2.58928900889213\n",
       "3. -1.157059384741\n",
       "\n",
       "\n",
       "\n",
       "$P\n",
       ":   1. 0.0864145530663608\n",
       "2. 0.00480871698658505\n",
       "3. 0.123624049468183\n",
       "\n",
       "\n",
       "\n",
       "$P.adjusted\n",
       ":   1. 0.259243659199082\n",
       "2. 0.0144261509597551\n",
       "3. 0.37087214840455\n",
       "\n",
       "\n",
       "\n",
       "$comparisons\n",
       ":   1. 'M_Abx - M_Abx_FMT'\n",
       "2. 'M_Abx - M_Control'\n",
       "3. 'M_Abx_FMT - M_Control'\n",
       "\n",
       "\n",
       "\n",
       "\n",
       "\n"
      ],
      "text/plain": [
       "$chi2\n",
       "[1] 6.718334\n",
       "\n",
       "$Z\n",
       "[1] -1.363169 -2.589289 -1.157059\n",
       "\n",
       "$P\n",
       "[1] 0.086414553 0.004808717 0.123624049\n",
       "\n",
       "$P.adjusted\n",
       "[1] 0.25924366 0.01442615 0.37087215\n",
       "\n",
       "$comparisons\n",
       "[1] \"M_Abx - M_Abx_FMT\"     \"M_Abx - M_Control\"     \"M_Abx_FMT - M_Control\"\n"
      ]
     },
     "metadata": {},
     "output_type": "display_data"
    }
   ],
   "source": [
    "#Observed richness by treatment group - MALES - FECAL\n",
    "\n",
    "obs = estimate_richness(na.omit(alz_nt_fec_M), split = TRUE, measures = \"Observed\")\n",
    "obs$SampleID = rownames(obs)\n",
    "\n",
    "dfobs = merge(obs, sample_tab, on=\"SampleID\")\n",
    "\n",
    "ordobs = obs %>% group_by(\"Treatment\") %>%\n",
    "    summarize(med.obs = median(Observed)) %>%\n",
    "    arrange(desc(med.obs)) %>%\n",
    "    magrittr::extract2(\"Treatment\")\n",
    "\n",
    "stats.obs = dfobs %>%\n",
    "    group_by(Treatment) %>%\n",
    "    summarize(median = median(Observed), \n",
    "              mean = mean(Observed),\n",
    "              sd = sd(Observed),\n",
    "              sem = sd(Observed/sqrt(length(Observed)))) #%>%\n",
    "    #arrange(-desc(mean))\n",
    "stats.obs\n",
    "\n",
    "#CHECK FOR SIGNIFICANCE\n",
    "stats.krusk = kruskal.test(Observed~Treatment, data=dfobs)\n",
    "stats.krusk\n",
    "\n",
    "#POST-HOC ANALYSIS\n",
    "dunn = dunn.test(dfobs$Observed, g=dfobs$Treatment, method=\"bonferroni\")\n",
    "dunn"
   ]
  },
  {
   "cell_type": "code",
   "execution_count": 89,
   "metadata": {},
   "outputs": [
    {
     "data": {
      "text/html": [
       "<table>\n",
       "<thead><tr><th scope=col>Treatment</th><th scope=col>median</th><th scope=col>mean</th><th scope=col>sd</th><th scope=col>sem</th></tr></thead>\n",
       "<tbody>\n",
       "\t<tr><td>M_Abx    </td><td>139      </td><td>150.5000 </td><td>47.72665 </td><td>15.09249 </td></tr>\n",
       "\t<tr><td>M_Abx_FMT</td><td>158      </td><td>174.3333 </td><td>55.82114 </td><td>18.60705 </td></tr>\n",
       "\t<tr><td>M_Control</td><td>191      </td><td>191.8000 </td><td>55.81278 </td><td>17.64955 </td></tr>\n",
       "</tbody>\n",
       "</table>\n"
      ],
      "text/latex": [
       "\\begin{tabular}{r|lllll}\n",
       " Treatment & median & mean & sd & sem\\\\\n",
       "\\hline\n",
       "\t M\\_Abx     & 139         & 150.5000    & 47.72665    & 15.09249   \\\\\n",
       "\t M\\_Abx\\_FMT & 158           & 174.3333      & 55.82114      & 18.60705     \\\\\n",
       "\t M\\_Control & 191         & 191.8000    & 55.81278    & 17.64955   \\\\\n",
       "\\end{tabular}\n"
      ],
      "text/markdown": [
       "\n",
       "| Treatment | median | mean | sd | sem |\n",
       "|---|---|---|---|---|\n",
       "| M_Abx     | 139       | 150.5000  | 47.72665  | 15.09249  |\n",
       "| M_Abx_FMT | 158       | 174.3333  | 55.82114  | 18.60705  |\n",
       "| M_Control | 191       | 191.8000  | 55.81278  | 17.64955  |\n",
       "\n"
      ],
      "text/plain": [
       "  Treatment median mean     sd       sem     \n",
       "1 M_Abx     139    150.5000 47.72665 15.09249\n",
       "2 M_Abx_FMT 158    174.3333 55.82114 18.60705\n",
       "3 M_Control 191    191.8000 55.81278 17.64955"
      ]
     },
     "metadata": {},
     "output_type": "display_data"
    },
    {
     "data": {
      "text/plain": [
       "\n",
       "\tKruskal-Wallis rank sum test\n",
       "\n",
       "data:  Observed by Treatment\n",
       "Kruskal-Wallis chi-squared = 2.9875, df = 2, p-value = 0.2245\n"
      ]
     },
     "metadata": {},
     "output_type": "display_data"
    },
    {
     "name": "stdout",
     "output_type": "stream",
     "text": [
      "  Kruskal-Wallis rank sum test\n",
      "\n",
      "data: x and group\n",
      "Kruskal-Wallis chi-squared = 2.9875, df = 2, p-value = 0.22\n",
      "\n",
      "\n",
      "                           Comparison of x by group                            \n",
      "                                 (Bonferroni)                                  \n",
      "Col Mean-|\n",
      "Row Mean |      M_Abx   M_Abx_FM\n",
      "---------+----------------------\n",
      "M_Abx_FM |  -0.981494\n",
      "         |     0.4895\n",
      "         |\n",
      "M_Contro |  -1.720538  -0.693154\n",
      "         |     0.1280     0.7323\n",
      "\n",
      "alpha = 0.05\n",
      "Reject Ho if p <= alpha/2\n"
     ]
    },
    {
     "data": {
      "text/html": [
       "<dl>\n",
       "\t<dt>$chi2</dt>\n",
       "\t\t<dd>2.98748699414051</dd>\n",
       "\t<dt>$Z</dt>\n",
       "\t\t<dd><ol class=list-inline>\n",
       "\t<li>-0.981494767538991</li>\n",
       "\t<li>-1.72053810052189</li>\n",
       "\t<li>-0.693154047118709</li>\n",
       "</ol>\n",
       "</dd>\n",
       "\t<dt>$P</dt>\n",
       "\t\t<dd><ol class=list-inline>\n",
       "\t<li>0.163174406730601</li>\n",
       "\t<li>0.0426673370880744</li>\n",
       "\t<li>0.244106441421366</li>\n",
       "</ol>\n",
       "</dd>\n",
       "\t<dt>$P.adjusted</dt>\n",
       "\t\t<dd><ol class=list-inline>\n",
       "\t<li>0.489523220191803</li>\n",
       "\t<li>0.128002011264223</li>\n",
       "\t<li>0.732319324264098</li>\n",
       "</ol>\n",
       "</dd>\n",
       "\t<dt>$comparisons</dt>\n",
       "\t\t<dd><ol class=list-inline>\n",
       "\t<li>'M_Abx - M_Abx_FMT'</li>\n",
       "\t<li>'M_Abx - M_Control'</li>\n",
       "\t<li>'M_Abx_FMT - M_Control'</li>\n",
       "</ol>\n",
       "</dd>\n",
       "</dl>\n"
      ],
      "text/latex": [
       "\\begin{description}\n",
       "\\item[\\$chi2] 2.98748699414051\n",
       "\\item[\\$Z] \\begin{enumerate*}\n",
       "\\item -0.981494767538991\n",
       "\\item -1.72053810052189\n",
       "\\item -0.693154047118709\n",
       "\\end{enumerate*}\n",
       "\n",
       "\\item[\\$P] \\begin{enumerate*}\n",
       "\\item 0.163174406730601\n",
       "\\item 0.0426673370880744\n",
       "\\item 0.244106441421366\n",
       "\\end{enumerate*}\n",
       "\n",
       "\\item[\\$P.adjusted] \\begin{enumerate*}\n",
       "\\item 0.489523220191803\n",
       "\\item 0.128002011264223\n",
       "\\item 0.732319324264098\n",
       "\\end{enumerate*}\n",
       "\n",
       "\\item[\\$comparisons] \\begin{enumerate*}\n",
       "\\item 'M\\_Abx - M\\_Abx\\_FMT'\n",
       "\\item 'M\\_Abx - M\\_Control'\n",
       "\\item 'M\\_Abx\\_FMT - M\\_Control'\n",
       "\\end{enumerate*}\n",
       "\n",
       "\\end{description}\n"
      ],
      "text/markdown": [
       "$chi2\n",
       ":   2.98748699414051\n",
       "$Z\n",
       ":   1. -0.981494767538991\n",
       "2. -1.72053810052189\n",
       "3. -0.693154047118709\n",
       "\n",
       "\n",
       "\n",
       "$P\n",
       ":   1. 0.163174406730601\n",
       "2. 0.0426673370880744\n",
       "3. 0.244106441421366\n",
       "\n",
       "\n",
       "\n",
       "$P.adjusted\n",
       ":   1. 0.489523220191803\n",
       "2. 0.128002011264223\n",
       "3. 0.732319324264098\n",
       "\n",
       "\n",
       "\n",
       "$comparisons\n",
       ":   1. 'M_Abx - M_Abx_FMT'\n",
       "2. 'M_Abx - M_Control'\n",
       "3. 'M_Abx_FMT - M_Control'\n",
       "\n",
       "\n",
       "\n",
       "\n",
       "\n"
      ],
      "text/plain": [
       "$chi2\n",
       "[1] 2.987487\n",
       "\n",
       "$Z\n",
       "[1] -0.9814948 -1.7205381 -0.6931540\n",
       "\n",
       "$P\n",
       "[1] 0.16317441 0.04266734 0.24410644\n",
       "\n",
       "$P.adjusted\n",
       "[1] 0.4895232 0.1280020 0.7323193\n",
       "\n",
       "$comparisons\n",
       "[1] \"M_Abx - M_Abx_FMT\"     \"M_Abx - M_Control\"     \"M_Abx_FMT - M_Control\"\n"
      ]
     },
     "metadata": {},
     "output_type": "display_data"
    }
   ],
   "source": [
    "#Observed richness by treatment group - MALES - CECAL\n",
    "\n",
    "obs = estimate_richness(na.omit(alz_nt_cec_M), split = TRUE, measures = \"Observed\")\n",
    "obs$SampleID = rownames(obs)\n",
    "\n",
    "dfobs = merge(obs, sample_tab, on=\"SampleID\")\n",
    "\n",
    "ordobs = obs %>% group_by(\"Treatment\") %>%\n",
    "    summarize(med.obs = median(Observed)) %>%\n",
    "    arrange(desc(med.obs)) %>%\n",
    "    magrittr::extract2(\"Treatment\")\n",
    "\n",
    "stats.obs = dfobs %>%\n",
    "    group_by(Treatment) %>%\n",
    "    summarize(median = median(Observed), \n",
    "              mean = mean(Observed),\n",
    "              sd = sd(Observed),\n",
    "              sem = sd(Observed/sqrt(length(Observed)))) #%>%\n",
    "    #arrange(-desc(mean))\n",
    "stats.obs\n",
    "\n",
    "#CHECK FOR SIGNIFICANCE\n",
    "stats.krusk = kruskal.test(Observed~Treatment, data=dfobs)\n",
    "stats.krusk\n",
    "\n",
    "#POST-HOC ANALYSIS\n",
    "dunn = dunn.test(dfobs$Observed, g=dfobs$Treatment, method=\"bonferroni\")\n",
    "dunn"
   ]
  },
  {
   "cell_type": "code",
   "execution_count": 92,
   "metadata": {},
   "outputs": [
    {
     "data": {
      "text/html": [
       "<table>\n",
       "<thead><tr><th scope=col>Treatment</th><th scope=col>median</th><th scope=col>mean</th><th scope=col>sd</th><th scope=col>sem</th></tr></thead>\n",
       "<tbody>\n",
       "\t<tr><td>M_Abx     </td><td>3.736119  </td><td>3.742036  </td><td>0.2182130 </td><td>0.06900502</td></tr>\n",
       "\t<tr><td>M_Abx_FMT </td><td>3.726856  </td><td>3.567437  </td><td>0.2657537 </td><td>0.08858457</td></tr>\n",
       "\t<tr><td>M_Control </td><td>3.668383  </td><td>3.800824  </td><td>0.4051074 </td><td>0.12810620</td></tr>\n",
       "</tbody>\n",
       "</table>\n"
      ],
      "text/latex": [
       "\\begin{tabular}{r|lllll}\n",
       " Treatment & median & mean & sd & sem\\\\\n",
       "\\hline\n",
       "\t M\\_Abx     & 3.736119    & 3.742036    & 0.2182130   & 0.06900502 \\\\\n",
       "\t M\\_Abx\\_FMT & 3.726856      & 3.567437      & 0.2657537     & 0.08858457   \\\\\n",
       "\t M\\_Control & 3.668383    & 3.800824    & 0.4051074   & 0.12810620 \\\\\n",
       "\\end{tabular}\n"
      ],
      "text/markdown": [
       "\n",
       "| Treatment | median | mean | sd | sem |\n",
       "|---|---|---|---|---|\n",
       "| M_Abx      | 3.736119   | 3.742036   | 0.2182130  | 0.06900502 |\n",
       "| M_Abx_FMT  | 3.726856   | 3.567437   | 0.2657537  | 0.08858457 |\n",
       "| M_Control  | 3.668383   | 3.800824   | 0.4051074  | 0.12810620 |\n",
       "\n"
      ],
      "text/plain": [
       "  Treatment median   mean     sd        sem       \n",
       "1 M_Abx     3.736119 3.742036 0.2182130 0.06900502\n",
       "2 M_Abx_FMT 3.726856 3.567437 0.2657537 0.08858457\n",
       "3 M_Control 3.668383 3.800824 0.4051074 0.12810620"
      ]
     },
     "metadata": {},
     "output_type": "display_data"
    },
    {
     "data": {
      "text/plain": [
       "\n",
       "\tKruskal-Wallis rank sum test\n",
       "\n",
       "data:  Shannon by Treatment\n",
       "Kruskal-Wallis chi-squared = 1.9027, df = 2, p-value = 0.3862\n"
      ]
     },
     "metadata": {},
     "output_type": "display_data"
    },
    {
     "name": "stdout",
     "output_type": "stream",
     "text": [
      "  Kruskal-Wallis rank sum test\n",
      "\n",
      "data: x and group\n",
      "Kruskal-Wallis chi-squared = 1.9027, df = 2, p-value = 0.39\n",
      "\n",
      "\n",
      "                           Comparison of x by group                            \n",
      "                                 (Bonferroni)                                  \n",
      "Col Mean-|\n",
      "Row Mean |      M_Abx   M_Abx_FM\n",
      "---------+----------------------\n",
      "M_Abx_FM |   1.283723\n",
      "         |     0.2989\n",
      "         |\n",
      "M_Contro |   0.183829  -1.104797\n",
      "         |     1.0000     0.4039\n",
      "\n",
      "alpha = 0.05\n",
      "Reject Ho if p <= alpha/2\n"
     ]
    },
    {
     "data": {
      "text/html": [
       "<dl>\n",
       "\t<dt>$chi2</dt>\n",
       "\t\t<dd>1.90268199233716</dd>\n",
       "\t<dt>$Z</dt>\n",
       "\t\t<dd><ol class=list-inline>\n",
       "\t<li>1.28372315949815</li>\n",
       "\t<li>0.183829006003611</li>\n",
       "\t<li>-1.10479714390438</li>\n",
       "</ol>\n",
       "</dd>\n",
       "\t<dt>$P</dt>\n",
       "\t\t<dd><ol class=list-inline>\n",
       "\t<li>0.0996194190087712</li>\n",
       "\t<li>0.427073800196915</li>\n",
       "\t<li>0.134623749190596</li>\n",
       "</ol>\n",
       "</dd>\n",
       "\t<dt>$P.adjusted</dt>\n",
       "\t\t<dd><ol class=list-inline>\n",
       "\t<li>0.298858257026314</li>\n",
       "\t<li>1</li>\n",
       "\t<li>0.403871247571789</li>\n",
       "</ol>\n",
       "</dd>\n",
       "\t<dt>$comparisons</dt>\n",
       "\t\t<dd><ol class=list-inline>\n",
       "\t<li>'M_Abx - M_Abx_FMT'</li>\n",
       "\t<li>'M_Abx - M_Control'</li>\n",
       "\t<li>'M_Abx_FMT - M_Control'</li>\n",
       "</ol>\n",
       "</dd>\n",
       "</dl>\n"
      ],
      "text/latex": [
       "\\begin{description}\n",
       "\\item[\\$chi2] 1.90268199233716\n",
       "\\item[\\$Z] \\begin{enumerate*}\n",
       "\\item 1.28372315949815\n",
       "\\item 0.183829006003611\n",
       "\\item -1.10479714390438\n",
       "\\end{enumerate*}\n",
       "\n",
       "\\item[\\$P] \\begin{enumerate*}\n",
       "\\item 0.0996194190087712\n",
       "\\item 0.427073800196915\n",
       "\\item 0.134623749190596\n",
       "\\end{enumerate*}\n",
       "\n",
       "\\item[\\$P.adjusted] \\begin{enumerate*}\n",
       "\\item 0.298858257026314\n",
       "\\item 1\n",
       "\\item 0.403871247571789\n",
       "\\end{enumerate*}\n",
       "\n",
       "\\item[\\$comparisons] \\begin{enumerate*}\n",
       "\\item 'M\\_Abx - M\\_Abx\\_FMT'\n",
       "\\item 'M\\_Abx - M\\_Control'\n",
       "\\item 'M\\_Abx\\_FMT - M\\_Control'\n",
       "\\end{enumerate*}\n",
       "\n",
       "\\end{description}\n"
      ],
      "text/markdown": [
       "$chi2\n",
       ":   1.90268199233716\n",
       "$Z\n",
       ":   1. 1.28372315949815\n",
       "2. 0.183829006003611\n",
       "3. -1.10479714390438\n",
       "\n",
       "\n",
       "\n",
       "$P\n",
       ":   1. 0.0996194190087712\n",
       "2. 0.427073800196915\n",
       "3. 0.134623749190596\n",
       "\n",
       "\n",
       "\n",
       "$P.adjusted\n",
       ":   1. 0.298858257026314\n",
       "2. 1\n",
       "3. 0.403871247571789\n",
       "\n",
       "\n",
       "\n",
       "$comparisons\n",
       ":   1. 'M_Abx - M_Abx_FMT'\n",
       "2. 'M_Abx - M_Control'\n",
       "3. 'M_Abx_FMT - M_Control'\n",
       "\n",
       "\n",
       "\n",
       "\n",
       "\n"
      ],
      "text/plain": [
       "$chi2\n",
       "[1] 1.902682\n",
       "\n",
       "$Z\n",
       "[1]  1.283723  0.183829 -1.104797\n",
       "\n",
       "$P\n",
       "[1] 0.09961942 0.42707380 0.13462375\n",
       "\n",
       "$P.adjusted\n",
       "[1] 0.2988583 1.0000000 0.4038712\n",
       "\n",
       "$comparisons\n",
       "[1] \"M_Abx - M_Abx_FMT\"     \"M_Abx - M_Control\"     \"M_Abx_FMT - M_Control\"\n"
      ]
     },
     "metadata": {},
     "output_type": "display_data"
    }
   ],
   "source": [
    "#Shanon Index by treatment group - MALES - FECAL\n",
    "\n",
    "sha = estimate_richness(na.omit(alz_nt_fec_M), split = TRUE, measures = \"Shannon\")\n",
    "sha$SampleID = rownames(sha)\n",
    "\n",
    "dfsha = merge(sha, sample_tab, on=\"SampleID\")\n",
    "\n",
    "ordsha = sha %>% group_by(\"Treatment\") %>%\n",
    "    summarize(med.sha = median(Shannon)) %>%\n",
    "    arrange(desc(med.sha)) %>%\n",
    "    magrittr::extract2(\"Treatment\")\n",
    "\n",
    "stats.sha = dfsha %>%\n",
    "    group_by(Treatment) %>%\n",
    "    summarize(median = median(Shannon), \n",
    "              mean = mean(Shannon),\n",
    "              sd = sd(Shannon),\n",
    "              sem = sd(Shannon/sqrt(length(Shannon)))) #%>%\n",
    "    #arrange(-desc(mean))\n",
    "stats.sha\n",
    "\n",
    "#CHECK FOR SIGNIFICANCE\n",
    "stats.krusk = kruskal.test(Shannon~Treatment, data=dfsha)\n",
    "stats.krusk\n",
    "\n",
    "#POST-HOC ANALYSIS\n",
    "dunn = dunn.test(dfsha$Shannon, g=dfsha$Treatment, method=\"bonferroni\")\n",
    "dunn"
   ]
  },
  {
   "cell_type": "code",
   "execution_count": 93,
   "metadata": {},
   "outputs": [
    {
     "data": {
      "text/html": [
       "<table>\n",
       "<thead><tr><th scope=col>Treatment</th><th scope=col>median</th><th scope=col>mean</th><th scope=col>sd</th><th scope=col>sem</th></tr></thead>\n",
       "<tbody>\n",
       "\t<tr><td>M_Abx     </td><td>3.190896  </td><td>3.259377  </td><td>0.2855643 </td><td>0.09030336</td></tr>\n",
       "\t<tr><td>M_Abx_FMT </td><td>3.146525  </td><td>3.229104  </td><td>0.6027147 </td><td>0.20090489</td></tr>\n",
       "\t<tr><td>M_Control </td><td>3.505665  </td><td>3.504035  </td><td>0.5817431 </td><td>0.18396332</td></tr>\n",
       "</tbody>\n",
       "</table>\n"
      ],
      "text/latex": [
       "\\begin{tabular}{r|lllll}\n",
       " Treatment & median & mean & sd & sem\\\\\n",
       "\\hline\n",
       "\t M\\_Abx     & 3.190896    & 3.259377    & 0.2855643   & 0.09030336 \\\\\n",
       "\t M\\_Abx\\_FMT & 3.146525      & 3.229104      & 0.6027147     & 0.20090489   \\\\\n",
       "\t M\\_Control & 3.505665    & 3.504035    & 0.5817431   & 0.18396332 \\\\\n",
       "\\end{tabular}\n"
      ],
      "text/markdown": [
       "\n",
       "| Treatment | median | mean | sd | sem |\n",
       "|---|---|---|---|---|\n",
       "| M_Abx      | 3.190896   | 3.259377   | 0.2855643  | 0.09030336 |\n",
       "| M_Abx_FMT  | 3.146525   | 3.229104   | 0.6027147  | 0.20090489 |\n",
       "| M_Control  | 3.505665   | 3.504035   | 0.5817431  | 0.18396332 |\n",
       "\n"
      ],
      "text/plain": [
       "  Treatment median   mean     sd        sem       \n",
       "1 M_Abx     3.190896 3.259377 0.2855643 0.09030336\n",
       "2 M_Abx_FMT 3.146525 3.229104 0.6027147 0.20090489\n",
       "3 M_Control 3.505665 3.504035 0.5817431 0.18396332"
      ]
     },
     "metadata": {},
     "output_type": "display_data"
    },
    {
     "data": {
      "text/plain": [
       "\n",
       "\tKruskal-Wallis rank sum test\n",
       "\n",
       "data:  Shannon by Treatment\n",
       "Kruskal-Wallis chi-squared = 1.3661, df = 2, p-value = 0.5051\n"
      ]
     },
     "metadata": {},
     "output_type": "display_data"
    },
    {
     "name": "stdout",
     "output_type": "stream",
     "text": [
      "  Kruskal-Wallis rank sum test\n",
      "\n",
      "data: x and group\n",
      "Kruskal-Wallis chi-squared = 1.3661, df = 2, p-value = 0.51\n",
      "\n",
      "\n",
      "                           Comparison of x by group                            \n",
      "                                 (Bonferroni)                                  \n",
      "Col Mean-|\n",
      "Row Mean |      M_Abx   M_Abx_FM\n",
      "---------+----------------------\n",
      "M_Abx_FM |   0.224367\n",
      "         |     1.0000\n",
      "         |\n",
      "M_Contro |  -0.892883  -1.093436\n",
      "         |     0.5579     0.4113\n",
      "\n",
      "alpha = 0.05\n",
      "Reject Ho if p <= alpha/2\n"
     ]
    },
    {
     "data": {
      "text/html": [
       "<dl>\n",
       "\t<dt>$chi2</dt>\n",
       "\t\t<dd>1.36613026819923</dd>\n",
       "\t<dt>$Z</dt>\n",
       "\t\t<dd><ol class=list-inline>\n",
       "\t<li>0.224367543363614</li>\n",
       "\t<li>-0.892883743446113</li>\n",
       "\t<li>-1.09343676196192</li>\n",
       "</ol>\n",
       "</dd>\n",
       "\t<dt>$P</dt>\n",
       "\t\t<dd><ol class=list-inline>\n",
       "\t<li>0.411235661775699</li>\n",
       "\t<li>0.185959716840888</li>\n",
       "\t<li>0.137101040085233</li>\n",
       "</ol>\n",
       "</dd>\n",
       "\t<dt>$P.adjusted</dt>\n",
       "\t\t<dd><ol class=list-inline>\n",
       "\t<li>1</li>\n",
       "\t<li>0.557879150522665</li>\n",
       "\t<li>0.411303120255699</li>\n",
       "</ol>\n",
       "</dd>\n",
       "\t<dt>$comparisons</dt>\n",
       "\t\t<dd><ol class=list-inline>\n",
       "\t<li>'M_Abx - M_Abx_FMT'</li>\n",
       "\t<li>'M_Abx - M_Control'</li>\n",
       "\t<li>'M_Abx_FMT - M_Control'</li>\n",
       "</ol>\n",
       "</dd>\n",
       "</dl>\n"
      ],
      "text/latex": [
       "\\begin{description}\n",
       "\\item[\\$chi2] 1.36613026819923\n",
       "\\item[\\$Z] \\begin{enumerate*}\n",
       "\\item 0.224367543363614\n",
       "\\item -0.892883743446113\n",
       "\\item -1.09343676196192\n",
       "\\end{enumerate*}\n",
       "\n",
       "\\item[\\$P] \\begin{enumerate*}\n",
       "\\item 0.411235661775699\n",
       "\\item 0.185959716840888\n",
       "\\item 0.137101040085233\n",
       "\\end{enumerate*}\n",
       "\n",
       "\\item[\\$P.adjusted] \\begin{enumerate*}\n",
       "\\item 1\n",
       "\\item 0.557879150522665\n",
       "\\item 0.411303120255699\n",
       "\\end{enumerate*}\n",
       "\n",
       "\\item[\\$comparisons] \\begin{enumerate*}\n",
       "\\item 'M\\_Abx - M\\_Abx\\_FMT'\n",
       "\\item 'M\\_Abx - M\\_Control'\n",
       "\\item 'M\\_Abx\\_FMT - M\\_Control'\n",
       "\\end{enumerate*}\n",
       "\n",
       "\\end{description}\n"
      ],
      "text/markdown": [
       "$chi2\n",
       ":   1.36613026819923\n",
       "$Z\n",
       ":   1. 0.224367543363614\n",
       "2. -0.892883743446113\n",
       "3. -1.09343676196192\n",
       "\n",
       "\n",
       "\n",
       "$P\n",
       ":   1. 0.411235661775699\n",
       "2. 0.185959716840888\n",
       "3. 0.137101040085233\n",
       "\n",
       "\n",
       "\n",
       "$P.adjusted\n",
       ":   1. 1\n",
       "2. 0.557879150522665\n",
       "3. 0.411303120255699\n",
       "\n",
       "\n",
       "\n",
       "$comparisons\n",
       ":   1. 'M_Abx - M_Abx_FMT'\n",
       "2. 'M_Abx - M_Control'\n",
       "3. 'M_Abx_FMT - M_Control'\n",
       "\n",
       "\n",
       "\n",
       "\n",
       "\n"
      ],
      "text/plain": [
       "$chi2\n",
       "[1] 1.36613\n",
       "\n",
       "$Z\n",
       "[1]  0.2243675 -0.8928837 -1.0934368\n",
       "\n",
       "$P\n",
       "[1] 0.4112357 0.1859597 0.1371010\n",
       "\n",
       "$P.adjusted\n",
       "[1] 1.0000000 0.5578792 0.4113031\n",
       "\n",
       "$comparisons\n",
       "[1] \"M_Abx - M_Abx_FMT\"     \"M_Abx - M_Control\"     \"M_Abx_FMT - M_Control\"\n"
      ]
     },
     "metadata": {},
     "output_type": "display_data"
    }
   ],
   "source": [
    "#Shanon Index by treatment group - MALES - CECAL\n",
    "\n",
    "sha = estimate_richness(na.omit(alz_nt_cec_M), split = TRUE, measures = \"Shannon\")\n",
    "sha$SampleID = rownames(sha)\n",
    "\n",
    "dfsha = merge(sha, sample_tab, on=\"SampleID\")\n",
    "\n",
    "ordsha = sha %>% group_by(\"Treatment\") %>%\n",
    "    summarize(med.sha = median(Shannon)) %>%\n",
    "    arrange(desc(med.sha)) %>%\n",
    "    magrittr::extract2(\"Treatment\")\n",
    "\n",
    "stats.sha = dfsha %>%\n",
    "    group_by(Treatment) %>%\n",
    "    summarize(median = median(Shannon), \n",
    "              mean = mean(Shannon),\n",
    "              sd = sd(Shannon),\n",
    "              sem = sd(Shannon/sqrt(length(Shannon)))) #%>%\n",
    "    #arrange(-desc(mean))\n",
    "stats.sha\n",
    "\n",
    "#CHECK FOR SIGNIFICANCE\n",
    "stats.krusk = kruskal.test(Shannon~Treatment, data=dfsha)\n",
    "stats.krusk\n",
    "\n",
    "#POST-HOC ANALYSIS\n",
    "dunn = dunn.test(dfsha$Shannon, g=dfsha$Treatment, method=\"bonferroni\")\n",
    "dunn"
   ]
  },
  {
   "cell_type": "code",
   "execution_count": 90,
   "metadata": {},
   "outputs": [
    {
     "data": {
      "text/html": [
       "<table>\n",
       "<thead><tr><th scope=col>Treatment</th><th scope=col>median</th><th scope=col>mean</th><th scope=col>sd</th><th scope=col>sem</th></tr></thead>\n",
       "<tbody>\n",
       "\t<tr><td>F_Abx    </td><td>141      </td><td>143.6667 </td><td>40.42586 </td><td>13.47529 </td></tr>\n",
       "\t<tr><td>F_Control</td><td>203      </td><td>199.9000 </td><td>41.60248 </td><td>13.15586 </td></tr>\n",
       "</tbody>\n",
       "</table>\n"
      ],
      "text/latex": [
       "\\begin{tabular}{r|lllll}\n",
       " Treatment & median & mean & sd & sem\\\\\n",
       "\\hline\n",
       "\t F\\_Abx     & 141         & 143.6667    & 40.42586    & 13.47529   \\\\\n",
       "\t F\\_Control & 203         & 199.9000    & 41.60248    & 13.15586   \\\\\n",
       "\\end{tabular}\n"
      ],
      "text/markdown": [
       "\n",
       "| Treatment | median | mean | sd | sem |\n",
       "|---|---|---|---|---|\n",
       "| F_Abx     | 141       | 143.6667  | 40.42586  | 13.47529  |\n",
       "| F_Control | 203       | 199.9000  | 41.60248  | 13.15586  |\n",
       "\n"
      ],
      "text/plain": [
       "  Treatment median mean     sd       sem     \n",
       "1 F_Abx     141    143.6667 40.42586 13.47529\n",
       "2 F_Control 203    199.9000 41.60248 13.15586"
      ]
     },
     "metadata": {},
     "output_type": "display_data"
    },
    {
     "data": {
      "text/plain": [
       "\n",
       "\tKruskal-Wallis rank sum test\n",
       "\n",
       "data:  Observed by Treatment\n",
       "Kruskal-Wallis chi-squared = 6.4123, df = 1, p-value = 0.01133\n"
      ]
     },
     "metadata": {},
     "output_type": "display_data"
    },
    {
     "name": "stdout",
     "output_type": "stream",
     "text": [
      "  Kruskal-Wallis rank sum test\n",
      "\n",
      "data: x and group\n",
      "Kruskal-Wallis chi-squared = 6.4123, df = 1, p-value = 0.01\n",
      "\n",
      "\n",
      "                           Comparison of x by group                            \n",
      "                                 (Bonferroni)                                  \n",
      "Col Mean-|\n",
      "Row Mean |      F_Abx\n",
      "---------+-----------\n",
      "F_Contro |  -2.532250\n",
      "         |    0.0057*\n",
      "\n",
      "alpha = 0.05\n",
      "Reject Ho if p <= alpha/2\n"
     ]
    },
    {
     "data": {
      "text/html": [
       "<dl>\n",
       "\t<dt>$chi2</dt>\n",
       "\t\t<dd>6.41229148375768</dd>\n",
       "\t<dt>$Z</dt>\n",
       "\t\t<dd>-2.53225028063138</dd>\n",
       "\t<dt>$P</dt>\n",
       "\t\t<dd>0.00566665321181593</dd>\n",
       "\t<dt>$P.adjusted</dt>\n",
       "\t\t<dd>0.00566665321181593</dd>\n",
       "\t<dt>$comparisons</dt>\n",
       "\t\t<dd>'F_Abx - F_Control'</dd>\n",
       "</dl>\n"
      ],
      "text/latex": [
       "\\begin{description}\n",
       "\\item[\\$chi2] 6.41229148375768\n",
       "\\item[\\$Z] -2.53225028063138\n",
       "\\item[\\$P] 0.00566665321181593\n",
       "\\item[\\$P.adjusted] 0.00566665321181593\n",
       "\\item[\\$comparisons] 'F\\_Abx - F\\_Control'\n",
       "\\end{description}\n"
      ],
      "text/markdown": [
       "$chi2\n",
       ":   6.41229148375768\n",
       "$Z\n",
       ":   -2.53225028063138\n",
       "$P\n",
       ":   0.00566665321181593\n",
       "$P.adjusted\n",
       ":   0.00566665321181593\n",
       "$comparisons\n",
       ":   'F_Abx - F_Control'\n",
       "\n",
       "\n"
      ],
      "text/plain": [
       "$chi2\n",
       "[1] 6.412291\n",
       "\n",
       "$Z\n",
       "[1] -2.53225\n",
       "\n",
       "$P\n",
       "[1] 0.005666653\n",
       "\n",
       "$P.adjusted\n",
       "[1] 0.005666653\n",
       "\n",
       "$comparisons\n",
       "[1] \"F_Abx - F_Control\"\n"
      ]
     },
     "metadata": {},
     "output_type": "display_data"
    }
   ],
   "source": [
    "#Observed richness by treatment group - FEMALES - FECAL\n",
    "\n",
    "obs = estimate_richness(na.omit(alz_nt_fec_F), split = TRUE, measures = \"Observed\")\n",
    "obs$SampleID = rownames(obs)\n",
    "\n",
    "dfobs = merge(obs, sample_tab, on=\"SampleID\")\n",
    "\n",
    "ordobs = obs %>% group_by(\"Treatment\") %>%\n",
    "    summarize(med.obs = median(Observed)) %>%\n",
    "    arrange(desc(med.obs)) %>%\n",
    "    magrittr::extract2(\"Treatment\")\n",
    "\n",
    "stats.obs = dfobs %>%\n",
    "    group_by(Treatment) %>%\n",
    "    summarize(median = median(Observed), \n",
    "              mean = mean(Observed),\n",
    "              sd = sd(Observed),\n",
    "              sem = sd(Observed/sqrt(length(Observed)))) #%>%\n",
    "    #arrange(-desc(mean))\n",
    "stats.obs\n",
    "\n",
    "#CHECK FOR SIGNIFICANCE\n",
    "stats.krusk = kruskal.test(Observed~Treatment, data=dfobs)\n",
    "stats.krusk\n",
    "\n",
    "#POST-HOC ANALYSIS\n",
    "dunn = dunn.test(dfobs$Observed, g=dfobs$Treatment, method=\"bonferroni\")\n",
    "dunn"
   ]
  },
  {
   "cell_type": "code",
   "execution_count": 91,
   "metadata": {},
   "outputs": [
    {
     "data": {
      "text/html": [
       "<table>\n",
       "<thead><tr><th scope=col>Treatment</th><th scope=col>median</th><th scope=col>mean</th><th scope=col>sd</th><th scope=col>sem</th></tr></thead>\n",
       "<tbody>\n",
       "\t<tr><td>F_Abx    </td><td>108.0    </td><td>118.875  </td><td>43.66901 </td><td>15.43933 </td></tr>\n",
       "\t<tr><td>F_Control</td><td>229.5    </td><td>230.500  </td><td>37.21783 </td><td>11.76931 </td></tr>\n",
       "</tbody>\n",
       "</table>\n"
      ],
      "text/latex": [
       "\\begin{tabular}{r|lllll}\n",
       " Treatment & median & mean & sd & sem\\\\\n",
       "\\hline\n",
       "\t F\\_Abx     & 108.0       & 118.875     & 43.66901    & 15.43933   \\\\\n",
       "\t F\\_Control & 229.5       & 230.500     & 37.21783    & 11.76931   \\\\\n",
       "\\end{tabular}\n"
      ],
      "text/markdown": [
       "\n",
       "| Treatment | median | mean | sd | sem |\n",
       "|---|---|---|---|---|\n",
       "| F_Abx     | 108.0     | 118.875   | 43.66901  | 15.43933  |\n",
       "| F_Control | 229.5     | 230.500   | 37.21783  | 11.76931  |\n",
       "\n"
      ],
      "text/plain": [
       "  Treatment median mean    sd       sem     \n",
       "1 F_Abx     108.0  118.875 43.66901 15.43933\n",
       "2 F_Control 229.5  230.500 37.21783 11.76931"
      ]
     },
     "metadata": {},
     "output_type": "display_data"
    },
    {
     "data": {
      "text/plain": [
       "\n",
       "\tKruskal-Wallis rank sum test\n",
       "\n",
       "data:  Observed by Treatment\n",
       "Kruskal-Wallis chi-squared = 10.853, df = 1, p-value = 0.0009865\n"
      ]
     },
     "metadata": {},
     "output_type": "display_data"
    },
    {
     "name": "stdout",
     "output_type": "stream",
     "text": [
      "  Kruskal-Wallis rank sum test\n",
      "\n",
      "data: x and group\n",
      "Kruskal-Wallis chi-squared = 10.8527, df = 1, p-value = 0\n",
      "\n",
      "\n",
      "                           Comparison of x by group                            \n",
      "                                 (Bonferroni)                                  \n",
      "Col Mean-|\n",
      "Row Mean |      F_Abx\n",
      "---------+-----------\n",
      "F_Contro |  -3.294342\n",
      "         |    0.0005*\n",
      "\n",
      "alpha = 0.05\n",
      "Reject Ho if p <= alpha/2\n"
     ]
    },
    {
     "data": {
      "text/html": [
       "<dl>\n",
       "\t<dt>$chi2</dt>\n",
       "\t\t<dd>10.8526943005181</dd>\n",
       "\t<dt>$Z</dt>\n",
       "\t\t<dd>-3.29434277216536</dd>\n",
       "\t<dt>$P</dt>\n",
       "\t\t<dd>0.000493260586987488</dd>\n",
       "\t<dt>$P.adjusted</dt>\n",
       "\t\t<dd>0.000493260586987488</dd>\n",
       "\t<dt>$comparisons</dt>\n",
       "\t\t<dd>'F_Abx - F_Control'</dd>\n",
       "</dl>\n"
      ],
      "text/latex": [
       "\\begin{description}\n",
       "\\item[\\$chi2] 10.8526943005181\n",
       "\\item[\\$Z] -3.29434277216536\n",
       "\\item[\\$P] 0.000493260586987488\n",
       "\\item[\\$P.adjusted] 0.000493260586987488\n",
       "\\item[\\$comparisons] 'F\\_Abx - F\\_Control'\n",
       "\\end{description}\n"
      ],
      "text/markdown": [
       "$chi2\n",
       ":   10.8526943005181\n",
       "$Z\n",
       ":   -3.29434277216536\n",
       "$P\n",
       ":   0.000493260586987488\n",
       "$P.adjusted\n",
       ":   0.000493260586987488\n",
       "$comparisons\n",
       ":   'F_Abx - F_Control'\n",
       "\n",
       "\n"
      ],
      "text/plain": [
       "$chi2\n",
       "[1] 10.85269\n",
       "\n",
       "$Z\n",
       "[1] -3.294343\n",
       "\n",
       "$P\n",
       "[1] 0.0004932606\n",
       "\n",
       "$P.adjusted\n",
       "[1] 0.0004932606\n",
       "\n",
       "$comparisons\n",
       "[1] \"F_Abx - F_Control\"\n"
      ]
     },
     "metadata": {},
     "output_type": "display_data"
    }
   ],
   "source": [
    "#Observed richness by treatment group - FEMALES - CECAL\n",
    "\n",
    "obs = estimate_richness(na.omit(alz_nt_cec_F), split = TRUE, measures = \"Observed\")\n",
    "obs$SampleID = rownames(obs)\n",
    "\n",
    "dfobs = merge(obs, sample_tab, on=\"SampleID\")\n",
    "\n",
    "ordobs = obs %>% group_by(\"Treatment\") %>%\n",
    "    summarize(med.obs = median(Observed)) %>%\n",
    "    arrange(desc(med.obs)) %>%\n",
    "    magrittr::extract2(\"Treatment\")\n",
    "\n",
    "stats.obs = dfobs %>%\n",
    "    group_by(Treatment) %>%\n",
    "    summarize(median = median(Observed), \n",
    "              mean = mean(Observed),\n",
    "              sd = sd(Observed),\n",
    "              sem = sd(Observed/sqrt(length(Observed)))) #%>%\n",
    "    #arrange(-desc(mean))\n",
    "stats.obs\n",
    "\n",
    "#CHECK FOR SIGNIFICANCE\n",
    "stats.krusk = kruskal.test(Observed~Treatment, data=dfobs)\n",
    "stats.krusk\n",
    "\n",
    "#POST-HOC ANALYSIS\n",
    "dunn = dunn.test(dfobs$Observed, g=dfobs$Treatment, method=\"bonferroni\")\n",
    "dunn"
   ]
  },
  {
   "cell_type": "code",
   "execution_count": 94,
   "metadata": {},
   "outputs": [
    {
     "data": {
      "text/html": [
       "<table>\n",
       "<thead><tr><th scope=col>Treatment</th><th scope=col>median</th><th scope=col>mean</th><th scope=col>sd</th><th scope=col>sem</th></tr></thead>\n",
       "<tbody>\n",
       "\t<tr><td>F_Abx    </td><td>3.524927 </td><td>3.671012 </td><td>0.3272313</td><td>0.1090771</td></tr>\n",
       "\t<tr><td>F_Control</td><td>3.762176 </td><td>3.864489 </td><td>0.3151918</td><td>0.0996724</td></tr>\n",
       "</tbody>\n",
       "</table>\n"
      ],
      "text/latex": [
       "\\begin{tabular}{r|lllll}\n",
       " Treatment & median & mean & sd & sem\\\\\n",
       "\\hline\n",
       "\t F\\_Abx     & 3.524927    & 3.671012    & 0.3272313   & 0.1090771  \\\\\n",
       "\t F\\_Control & 3.762176    & 3.864489    & 0.3151918   & 0.0996724  \\\\\n",
       "\\end{tabular}\n"
      ],
      "text/markdown": [
       "\n",
       "| Treatment | median | mean | sd | sem |\n",
       "|---|---|---|---|---|\n",
       "| F_Abx     | 3.524927  | 3.671012  | 0.3272313 | 0.1090771 |\n",
       "| F_Control | 3.762176  | 3.864489  | 0.3151918 | 0.0996724 |\n",
       "\n"
      ],
      "text/plain": [
       "  Treatment median   mean     sd        sem      \n",
       "1 F_Abx     3.524927 3.671012 0.3272313 0.1090771\n",
       "2 F_Control 3.762176 3.864489 0.3151918 0.0996724"
      ]
     },
     "metadata": {},
     "output_type": "display_data"
    },
    {
     "data": {
      "text/plain": [
       "\n",
       "\tKruskal-Wallis rank sum test\n",
       "\n",
       "data:  Shannon by Treatment\n",
       "Kruskal-Wallis chi-squared = 1.9267, df = 1, p-value = 0.1651\n"
      ]
     },
     "metadata": {},
     "output_type": "display_data"
    },
    {
     "name": "stdout",
     "output_type": "stream",
     "text": [
      "  Kruskal-Wallis rank sum test\n",
      "\n",
      "data: x and group\n",
      "Kruskal-Wallis chi-squared = 1.9267, df = 1, p-value = 0.17\n",
      "\n",
      "\n",
      "                           Comparison of x by group                            \n",
      "                                 (Bonferroni)                                  \n",
      "Col Mean-|\n",
      "Row Mean |      F_Abx\n",
      "---------+-----------\n",
      "F_Contro |  -1.388044\n",
      "         |     0.0826\n",
      "\n",
      "alpha = 0.05\n",
      "Reject Ho if p <= alpha/2\n"
     ]
    },
    {
     "data": {
      "text/html": [
       "<dl>\n",
       "\t<dt>$chi2</dt>\n",
       "\t\t<dd>1.92666666666667</dd>\n",
       "\t<dt>$Z</dt>\n",
       "\t\t<dd>-1.38804418757713</dd>\n",
       "\t<dt>$P</dt>\n",
       "\t\t<dd>0.0825617950641971</dd>\n",
       "\t<dt>$P.adjusted</dt>\n",
       "\t\t<dd>0.0825617950641971</dd>\n",
       "\t<dt>$comparisons</dt>\n",
       "\t\t<dd>'F_Abx - F_Control'</dd>\n",
       "</dl>\n"
      ],
      "text/latex": [
       "\\begin{description}\n",
       "\\item[\\$chi2] 1.92666666666667\n",
       "\\item[\\$Z] -1.38804418757713\n",
       "\\item[\\$P] 0.0825617950641971\n",
       "\\item[\\$P.adjusted] 0.0825617950641971\n",
       "\\item[\\$comparisons] 'F\\_Abx - F\\_Control'\n",
       "\\end{description}\n"
      ],
      "text/markdown": [
       "$chi2\n",
       ":   1.92666666666667\n",
       "$Z\n",
       ":   -1.38804418757713\n",
       "$P\n",
       ":   0.0825617950641971\n",
       "$P.adjusted\n",
       ":   0.0825617950641971\n",
       "$comparisons\n",
       ":   'F_Abx - F_Control'\n",
       "\n",
       "\n"
      ],
      "text/plain": [
       "$chi2\n",
       "[1] 1.926667\n",
       "\n",
       "$Z\n",
       "[1] -1.388044\n",
       "\n",
       "$P\n",
       "[1] 0.0825618\n",
       "\n",
       "$P.adjusted\n",
       "[1] 0.0825618\n",
       "\n",
       "$comparisons\n",
       "[1] \"F_Abx - F_Control\"\n"
      ]
     },
     "metadata": {},
     "output_type": "display_data"
    }
   ],
   "source": [
    "#Shanon Index by treatment group - FEMALES - FECAL\n",
    "\n",
    "sha = estimate_richness(na.omit(alz_nt_fec_F), split = TRUE, measures = \"Shannon\")\n",
    "sha$SampleID = rownames(sha)\n",
    "\n",
    "dfsha = merge(sha, sample_tab, on=\"SampleID\")\n",
    "\n",
    "ordsha = sha %>% group_by(\"Treatment\") %>%\n",
    "    summarize(med.sha = median(Shannon)) %>%\n",
    "    arrange(desc(med.sha)) %>%\n",
    "    magrittr::extract2(\"Treatment\")\n",
    "\n",
    "stats.sha = dfsha %>%\n",
    "    group_by(Treatment) %>%\n",
    "    summarize(median = median(Shannon), \n",
    "              mean = mean(Shannon),\n",
    "              sd = sd(Shannon),\n",
    "              sem = sd(Shannon/sqrt(length(Shannon)))) #%>%\n",
    "    #arrange(-desc(mean))\n",
    "stats.sha\n",
    "\n",
    "#CHECK FOR SIGNIFICANCE\n",
    "stats.krusk = kruskal.test(Shannon~Treatment, data=dfsha)\n",
    "stats.krusk\n",
    "\n",
    "#POST-HOC ANALYSIS\n",
    "dunn = dunn.test(dfsha$Shannon, g=dfsha$Treatment, method=\"bonferroni\")\n",
    "dunn"
   ]
  },
  {
   "cell_type": "code",
   "execution_count": 95,
   "metadata": {},
   "outputs": [
    {
     "data": {
      "text/html": [
       "<table>\n",
       "<thead><tr><th scope=col>Treatment</th><th scope=col>median</th><th scope=col>mean</th><th scope=col>sd</th><th scope=col>sem</th></tr></thead>\n",
       "<tbody>\n",
       "\t<tr><td>F_Abx    </td><td>3.552092 </td><td>3.352493 </td><td>0.4709796</td><td>0.1665164</td></tr>\n",
       "\t<tr><td>F_Control</td><td>3.989772 </td><td>3.947161 </td><td>0.3168112</td><td>0.1001845</td></tr>\n",
       "</tbody>\n",
       "</table>\n"
      ],
      "text/latex": [
       "\\begin{tabular}{r|lllll}\n",
       " Treatment & median & mean & sd & sem\\\\\n",
       "\\hline\n",
       "\t F\\_Abx     & 3.552092    & 3.352493    & 0.4709796   & 0.1665164  \\\\\n",
       "\t F\\_Control & 3.989772    & 3.947161    & 0.3168112   & 0.1001845  \\\\\n",
       "\\end{tabular}\n"
      ],
      "text/markdown": [
       "\n",
       "| Treatment | median | mean | sd | sem |\n",
       "|---|---|---|---|---|\n",
       "| F_Abx     | 3.552092  | 3.352493  | 0.4709796 | 0.1665164 |\n",
       "| F_Control | 3.989772  | 3.947161  | 0.3168112 | 0.1001845 |\n",
       "\n"
      ],
      "text/plain": [
       "  Treatment median   mean     sd        sem      \n",
       "1 F_Abx     3.552092 3.352493 0.4709796 0.1665164\n",
       "2 F_Control 3.989772 3.947161 0.3168112 0.1001845"
      ]
     },
     "metadata": {},
     "output_type": "display_data"
    },
    {
     "data": {
      "text/plain": [
       "\n",
       "\tKruskal-Wallis rank sum test\n",
       "\n",
       "data:  Shannon by Treatment\n",
       "Kruskal-Wallis chi-squared = 8.5974, df = 1, p-value = 0.003366\n"
      ]
     },
     "metadata": {},
     "output_type": "display_data"
    },
    {
     "name": "stdout",
     "output_type": "stream",
     "text": [
      "  Kruskal-Wallis rank sum test\n",
      "\n",
      "data: x and group\n",
      "Kruskal-Wallis chi-squared = 8.5974, df = 1, p-value = 0\n",
      "\n",
      "\n",
      "                           Comparison of x by group                            \n",
      "                                 (Bonferroni)                                  \n",
      "Col Mean-|\n",
      "Row Mean |      F_Abx\n",
      "---------+-----------\n",
      "F_Contro |  -2.932126\n",
      "         |    0.0017*\n",
      "\n",
      "alpha = 0.05\n",
      "Reject Ho if p <= alpha/2\n"
     ]
    },
    {
     "data": {
      "text/html": [
       "<dl>\n",
       "\t<dt>$chi2</dt>\n",
       "\t\t<dd>8.59736842105264</dd>\n",
       "\t<dt>$Z</dt>\n",
       "\t\t<dd>-2.93212694490751</dd>\n",
       "\t<dt>$P</dt>\n",
       "\t\t<dd>0.0016832455399728</dd>\n",
       "\t<dt>$P.adjusted</dt>\n",
       "\t\t<dd>0.0016832455399728</dd>\n",
       "\t<dt>$comparisons</dt>\n",
       "\t\t<dd>'F_Abx - F_Control'</dd>\n",
       "</dl>\n"
      ],
      "text/latex": [
       "\\begin{description}\n",
       "\\item[\\$chi2] 8.59736842105264\n",
       "\\item[\\$Z] -2.93212694490751\n",
       "\\item[\\$P] 0.0016832455399728\n",
       "\\item[\\$P.adjusted] 0.0016832455399728\n",
       "\\item[\\$comparisons] 'F\\_Abx - F\\_Control'\n",
       "\\end{description}\n"
      ],
      "text/markdown": [
       "$chi2\n",
       ":   8.59736842105264\n",
       "$Z\n",
       ":   -2.93212694490751\n",
       "$P\n",
       ":   0.0016832455399728\n",
       "$P.adjusted\n",
       ":   0.0016832455399728\n",
       "$comparisons\n",
       ":   'F_Abx - F_Control'\n",
       "\n",
       "\n"
      ],
      "text/plain": [
       "$chi2\n",
       "[1] 8.597368\n",
       "\n",
       "$Z\n",
       "[1] -2.932127\n",
       "\n",
       "$P\n",
       "[1] 0.001683246\n",
       "\n",
       "$P.adjusted\n",
       "[1] 0.001683246\n",
       "\n",
       "$comparisons\n",
       "[1] \"F_Abx - F_Control\"\n"
      ]
     },
     "metadata": {},
     "output_type": "display_data"
    }
   ],
   "source": [
    "#Shanon Index by treatment group - FEMALES - CECAL\n",
    "\n",
    "sha = estimate_richness(na.omit(alz_nt_cec_F), split = TRUE, measures = \"Shannon\")\n",
    "sha$SampleID = rownames(sha)\n",
    "\n",
    "dfsha = merge(sha, sample_tab, on=\"SampleID\")\n",
    "\n",
    "ordsha = sha %>% group_by(\"Treatment\") %>%\n",
    "    summarize(med.sha = median(Shannon)) %>%\n",
    "    arrange(desc(med.sha)) %>%\n",
    "    magrittr::extract2(\"Treatment\")\n",
    "\n",
    "stats.sha = dfsha %>%\n",
    "    group_by(Treatment) %>%\n",
    "    summarize(median = median(Shannon), \n",
    "              mean = mean(Shannon),\n",
    "              sd = sd(Shannon),\n",
    "              sem = sd(Shannon/sqrt(length(Shannon)))) #%>%\n",
    "    #arrange(-desc(mean))\n",
    "stats.sha\n",
    "\n",
    "#CHECK FOR SIGNIFICANCE\n",
    "stats.krusk = kruskal.test(Shannon~Treatment, data=dfsha)\n",
    "stats.krusk\n",
    "\n",
    "#POST-HOC ANALYSIS\n",
    "dunn = dunn.test(dfsha$Shannon, g=dfsha$Treatment, method=\"bonferroni\")\n",
    "dunn"
   ]
  },
  {
   "cell_type": "code",
   "execution_count": null,
   "metadata": {},
   "outputs": [],
   "source": []
  },
  {
   "cell_type": "markdown",
   "metadata": {},
   "source": [
    "### UNWEIGHTED UNIFRAC"
   ]
  },
  {
   "cell_type": "code",
   "execution_count": 33,
   "metadata": {},
   "outputs": [],
   "source": [
    "alz_t_M = subset_samples(alz_t_fec_, Sex==\"M\")\n",
    "alz_t_F = subset_samples(alz_t_1k, Sex==\"F\")\n",
    "\n",
    "alz_t_1k_M.df = data.frame(sample_data(alz_t_1k_M))\n",
    "alz_t_1k_F.df = data.frame(sample_data(alz_t_1k_F))"
   ]
  },
  {
   "cell_type": "code",
   "execution_count": 34,
   "metadata": {},
   "outputs": [
    {
     "name": "stderr",
     "output_type": "stream",
     "text": [
      "Warning message in UniFrac(physeq, ...):\n",
      "“Randomly assigning root as -- TACGTATGTCCCGAGCGTTATCCGGATTTATTGGGCGTAAAGCGAGCGCAGACGGTTGATTAAGTCTGATGTGAAAGCCCGGAGCTCAACCCCGGAATGGCATTGGAAACTGGTTAACTTGAGTGCAGTAGAGGTAAGTGGAACTCCATG -- in the phylogenetic tree in the data you provided.”"
     ]
    },
    {
     "data": {
      "text/html": [
       "<table>\n",
       "<thead><tr><th></th><th scope=col>Df</th><th scope=col>SumOfSqs</th><th scope=col>R2</th><th scope=col>F</th><th scope=col>Pr(&gt;F)</th></tr></thead>\n",
       "<tbody>\n",
       "\t<tr><th scope=row>Treatment</th><td> 2       </td><td>0.4116223</td><td>0.0762443</td><td>1.114254 </td><td>0.193    </td></tr>\n",
       "\t<tr><th scope=row>Residual</th><td>27       </td><td>4.9871064</td><td>0.9237557</td><td>      NA </td><td>   NA    </td></tr>\n",
       "\t<tr><th scope=row>Total</th><td>29       </td><td>5.3987288</td><td>1.0000000</td><td>      NA </td><td>   NA    </td></tr>\n",
       "</tbody>\n",
       "</table>\n"
      ],
      "text/latex": [
       "\\begin{tabular}{r|lllll}\n",
       "  & Df & SumOfSqs & R2 & F & Pr(>F)\\\\\n",
       "\\hline\n",
       "\tTreatment &  2        & 0.4116223 & 0.0762443 & 1.114254  & 0.193    \\\\\n",
       "\tResidual & 27        & 4.9871064 & 0.9237557 &       NA  &    NA    \\\\\n",
       "\tTotal & 29        & 5.3987288 & 1.0000000 &       NA  &    NA    \\\\\n",
       "\\end{tabular}\n"
      ],
      "text/markdown": [
       "\n",
       "| <!--/--> | Df | SumOfSqs | R2 | F | Pr(>F) |\n",
       "|---|---|---|---|---|---|\n",
       "| Treatment |  2        | 0.4116223 | 0.0762443 | 1.114254  | 0.193     |\n",
       "| Residual | 27        | 4.9871064 | 0.9237557 |       NA  |    NA     |\n",
       "| Total | 29        | 5.3987288 | 1.0000000 |       NA  |    NA     |\n",
       "\n"
      ],
      "text/plain": [
       "          Df SumOfSqs  R2        F        Pr(>F)\n",
       "Treatment  2 0.4116223 0.0762443 1.114254 0.193 \n",
       "Residual  27 4.9871064 0.9237557       NA    NA \n",
       "Total     29 5.3987288 1.0000000       NA    NA "
      ]
     },
     "metadata": {},
     "output_type": "display_data"
    }
   ],
   "source": [
    "alz.dist.unif = distance(alz_t_1k_M, method = \"unifrac\", type = \"samples\")\n",
    "alz.unif.treat.adtest = adonis2(alz.dist.unif ~ Treatment, data=alz_t_1k_M.df)\n",
    "alz.unif.treat.adtest"
   ]
  }
 ],
 "metadata": {
  "kernelspec": {
   "display_name": "R_3.6.0",
   "language": "R",
   "name": "ir360"
  },
  "language_info": {
   "codemirror_mode": "r",
   "file_extension": ".r",
   "mimetype": "text/x-r-source",
   "name": "R",
   "pygments_lexer": "r",
   "version": "3.6.1"
  }
 },
 "nbformat": 4,
 "nbformat_minor": 2
}
